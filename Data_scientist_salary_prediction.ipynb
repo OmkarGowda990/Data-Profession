{
 "cells": [
  {
   "cell_type": "markdown",
   "id": "a469a62e",
   "metadata": {
    "id": "a469a62e",
    "papermill": {
     "duration": 0.222932,
     "end_time": "2022-02-25T05:56:01.064134",
     "exception": false,
     "start_time": "2022-02-25T05:56:00.841202",
     "status": "completed"
    },
    "tags": []
   },
   "source": [
    "# Project Title: Data scientist salary prediction "
   ]
  },
  {
   "cell_type": "code",
   "execution_count": 1,
   "id": "5879b627",
   "metadata": {
    "colab": {
     "base_uri": "https://localhost:8080/"
    },
    "execution": {
     "iopub.execute_input": "2022-02-25T05:56:01.958067Z",
     "iopub.status.busy": "2022-02-25T05:56:01.953420Z",
     "iopub.status.idle": "2022-02-25T05:56:03.944311Z",
     "shell.execute_reply": "2022-02-25T05:56:03.944859Z",
     "shell.execute_reply.started": "2022-02-23T19:50:53.017098Z"
    },
    "id": "5879b627",
    "outputId": "5f9d1d3a-932e-478e-b6cf-1b5edb7da992",
    "papermill": {
     "duration": 2.222031,
     "end_time": "2022-02-25T05:56:03.945167",
     "exception": false,
     "start_time": "2022-02-25T05:56:01.723136",
     "status": "completed"
    },
    "tags": []
   },
   "outputs": [],
   "source": [
    "#mporting libraries\n",
    "import pandas as pd\n",
    "import numpy as np\n",
    "import matplotlib.pyplot as plt\n",
    "import seaborn as sns\n",
    "from matplotlib import rcParams\n",
    "import statsmodels.api as sm\n",
    "from sklearn.model_selection import train_test_split\n",
    "from statsmodels.tools.eval_measures import rmse\n",
    "from sklearn.metrics import mean_squared_error, mean_absolute_error, r2_score\n",
    "import random"
   ]
  },
  {
   "cell_type": "code",
   "execution_count": 2,
   "id": "00fa45b6",
   "metadata": {
    "colab": {
     "base_uri": "https://localhost:8080/",
     "height": 74,
     "resources": {
      "http://localhost:8080/nbextensions/google.colab/files.js": {
       "data": "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",
       "headers": [
        [
         "content-type",
         "application/javascript"
        ]
       ],
       "ok": true,
       "status": 200,
       "status_text": ""
      }
     }
    },
    "execution": {
     "iopub.execute_input": "2022-02-25T05:56:04.377637Z",
     "iopub.status.busy": "2022-02-25T05:56:04.376940Z",
     "iopub.status.idle": "2022-02-25T05:56:04.472313Z",
     "shell.execute_reply": "2022-02-25T05:56:04.472842Z",
     "shell.execute_reply.started": "2022-02-23T19:50:54.888368Z"
    },
    "id": "00fa45b6",
    "outputId": "6784a2e5-e894-4c83-93ad-37089ac6412f",
    "papermill": {
     "duration": 0.312394,
     "end_time": "2022-02-25T05:56:04.473037",
     "exception": false,
     "start_time": "2022-02-25T05:56:04.160643",
     "status": "completed"
    },
    "tags": []
   },
   "outputs": [],
   "source": [
    "# Uploading dataset\n",
    "salary=  df= pd.read_csv(\"data_cleaned_2021.csv\")"
   ]
  },
  {
   "cell_type": "markdown",
   "id": "8eafe8c9",
   "metadata": {
    "id": "8eafe8c9",
    "papermill": {
     "duration": 0.216876,
     "end_time": "2022-02-25T05:56:06.250344",
     "exception": false,
     "start_time": "2022-02-25T05:56:06.033468",
     "status": "completed"
    },
    "tags": []
   },
   "source": [
    "# Handling missing values"
   ]
  },
  {
   "cell_type": "code",
   "execution_count": 3,
   "id": "81187787",
   "metadata": {
    "execution": {
     "iopub.execute_input": "2022-02-25T05:56:07.135469Z",
     "iopub.status.busy": "2022-02-25T05:56:07.134768Z",
     "iopub.status.idle": "2022-02-25T05:56:07.141329Z",
     "shell.execute_reply": "2022-02-25T05:56:07.141880Z",
     "shell.execute_reply.started": "2022-02-23T19:50:55.074579Z"
    },
    "id": "81187787",
    "papermill": {
     "duration": 0.232135,
     "end_time": "2022-02-25T05:56:07.142058",
     "exception": false,
     "start_time": "2022-02-25T05:56:06.909923",
     "status": "completed"
    },
    "tags": []
   },
   "outputs": [],
   "source": [
    "#Replacing object and int values of -1 with NaN\n",
    "salary=salary.replace(['-1'],[np.nan])\n",
    "salary=salary.replace([-1],[np.nan])\n",
    "salary = salary.drop(\"index\",axis=1)"
   ]
  },
  {
   "cell_type": "code",
   "execution_count": 4,
   "id": "f2231da6",
   "metadata": {
    "execution": {
     "iopub.execute_input": "2022-02-25T05:56:13.039290Z",
     "iopub.status.busy": "2022-02-25T05:56:13.038538Z",
     "iopub.status.idle": "2022-02-25T05:56:13.043381Z",
     "shell.execute_reply": "2022-02-25T05:56:13.044005Z",
     "shell.execute_reply.started": "2022-02-23T19:50:55.23978Z"
    },
    "id": "f2231da6",
    "papermill": {
     "duration": 0.228847,
     "end_time": "2022-02-25T05:56:13.044180",
     "exception": false,
     "start_time": "2022-02-25T05:56:12.815333",
     "status": "completed"
    },
    "tags": []
   },
   "outputs": [],
   "source": [
    "salary[\"Competitors\"] = salary[\"Competitors\"].fillna(salary[\"Competitors\"].mode()[0]) \n",
    "salary[\"Industry\"] = salary[\"Industry\"].fillna(salary[\"Industry\"].mode()[0]) \n",
    "salary[\"Sector\"] = salary[\"Sector\"].fillna(salary[\"Sector\"].mode()[0]) \n",
    "salary[\"Headquarters\"] = salary[\"Headquarters\"].fillna(salary[\"Headquarters\"].mode()[0]) \n",
    "salary[\"Rating\"] = salary[\"Rating\"].fillna(salary[\"Rating\"].mean())\n",
    "salary[\"Age\"] = salary[\"Age\"].fillna(salary[\"Age\"].median())\n",
    "salary[\"Founded\"] = salary[\"Founded\"].fillna(salary[\"Founded\"].median())\n",
    "salary[\"Company Name\"]=salary[\"Company Name\"].str[:-4] #\"company Name column conatin name with rating also so we are removing rating given in that column\"\n",
    "salary.drop(\"company_txt\",axis=1,inplace=True)"
   ]
  },
  {
   "cell_type": "markdown",
   "id": "608f5fb0",
   "metadata": {
    "id": "608f5fb0",
    "papermill": {
     "duration": 0.226384,
     "end_time": "2022-02-25T05:56:21.977393",
     "exception": false,
     "start_time": "2022-02-25T05:56:21.751009",
     "status": "completed"
    },
    "tags": []
   },
   "source": [
    "## There are no missing values in data frame"
   ]
  },
  {
   "cell_type": "code",
   "execution_count": 5,
   "id": "63e39f17",
   "metadata": {
    "execution": {
     "iopub.execute_input": "2022-02-25T05:56:37.253781Z",
     "iopub.status.busy": "2022-02-25T05:56:37.249015Z",
     "iopub.status.idle": "2022-02-25T05:56:37.257056Z",
     "shell.execute_reply": "2022-02-25T05:56:37.256386Z",
     "shell.execute_reply.started": "2022-02-23T19:50:56.788835Z"
    },
    "id": "63e39f17",
    "papermill": {
     "duration": 0.262254,
     "end_time": "2022-02-25T05:56:37.257227",
     "exception": false,
     "start_time": "2022-02-25T05:56:36.994973",
     "status": "completed"
    },
    "tags": []
   },
   "outputs": [],
   "source": [
    "#Here we made new column derived for take out state abrevation\n",
    "salary[\"Location_abb\"]=salary[\"Location\"].str[-2:]"
   ]
  },
  {
   "cell_type": "code",
   "execution_count": 6,
   "id": "59917913",
   "metadata": {
    "execution": {
     "iopub.execute_input": "2022-02-25T05:56:37.751067Z",
     "iopub.status.busy": "2022-02-25T05:56:37.750301Z",
     "iopub.status.idle": "2022-02-25T05:56:37.754769Z",
     "shell.execute_reply": "2022-02-25T05:56:37.755491Z",
     "shell.execute_reply.started": "2022-02-23T19:50:56.802246Z"
    },
    "id": "59917913",
    "papermill": {
     "duration": 0.25321,
     "end_time": "2022-02-25T05:56:37.755713",
     "exception": false,
     "start_time": "2022-02-25T05:56:37.502503",
     "status": "completed"
    },
    "tags": []
   },
   "outputs": [],
   "source": [
    "#Here we checking derived abbrevation of state and present column named as job location\n",
    "salary[\"Check\"]=salary[\"Job Location\"].equals(salary[\"Location_abb\"])"
   ]
  },
  {
   "cell_type": "code",
   "execution_count": 7,
   "id": "1b4043cf",
   "metadata": {
    "colab": {
     "base_uri": "https://localhost:8080/"
    },
    "execution": {
     "iopub.execute_input": "2022-02-25T05:56:38.254392Z",
     "iopub.status.busy": "2022-02-25T05:56:38.253656Z",
     "iopub.status.idle": "2022-02-25T05:56:38.261087Z",
     "shell.execute_reply": "2022-02-25T05:56:38.261613Z",
     "shell.execute_reply.started": "2022-02-23T19:50:56.811823Z"
    },
    "id": "1b4043cf",
    "outputId": "9a73aa8b-1787-40d6-f5d5-1eb5560e7bc6",
    "papermill": {
     "duration": 0.256102,
     "end_time": "2022-02-25T05:56:38.261802",
     "exception": false,
     "start_time": "2022-02-25T05:56:38.005700",
     "status": "completed"
    },
    "tags": []
   },
   "outputs": [
    {
     "data": {
      "text/plain": [
       "True    742\n",
       "Name: Check, dtype: int64"
      ]
     },
     "execution_count": 7,
     "metadata": {},
     "output_type": "execute_result"
    }
   ],
   "source": [
    "salary[\"Check\"].value_counts() #Here we get to know that job location column is not useful so we are drop that column"
   ]
  },
  {
   "cell_type": "markdown",
   "id": "43590f1f",
   "metadata": {
    "id": "43590f1f",
    "papermill": {
     "duration": 0.240102,
     "end_time": "2022-02-25T05:56:38.750000",
     "exception": false,
     "start_time": "2022-02-25T05:56:38.509898",
     "status": "completed"
    },
    "tags": []
   },
   "source": [
    "We dropped \"location\" column as abbrevation same"
   ]
  },
  {
   "cell_type": "code",
   "execution_count": 8,
   "id": "76b36c93",
   "metadata": {
    "execution": {
     "iopub.execute_input": "2022-02-25T05:56:39.234306Z",
     "iopub.status.busy": "2022-02-25T05:56:39.233594Z",
     "iopub.status.idle": "2022-02-25T05:56:39.241369Z",
     "shell.execute_reply": "2022-02-25T05:56:39.241904Z",
     "shell.execute_reply.started": "2022-02-23T19:50:56.824467Z"
    },
    "id": "76b36c93",
    "papermill": {
     "duration": 0.249055,
     "end_time": "2022-02-25T05:56:39.242077",
     "exception": false,
     "start_time": "2022-02-25T05:56:38.993022",
     "status": "completed"
    },
    "tags": []
   },
   "outputs": [],
   "source": [
    "salary.drop(\"Location\",axis=1,inplace=True) \n",
    "salary.drop(\"Location_abb\",axis=1,inplace=True)\n",
    "salary.drop(\"Check\",axis=1,inplace=True) # Here we drop location as well as location_abb and check column also"
   ]
  },
  {
   "cell_type": "code",
   "execution_count": 9,
   "id": "93a96876",
   "metadata": {
    "execution": {
     "iopub.execute_input": "2022-02-25T05:56:47.823008Z",
     "iopub.status.busy": "2022-02-25T05:56:47.822165Z",
     "iopub.status.idle": "2022-02-25T05:56:47.825158Z",
     "shell.execute_reply": "2022-02-25T05:56:47.824581Z",
     "shell.execute_reply.started": "2022-02-23T19:50:57.671513Z"
    },
    "id": "93a96876",
    "papermill": {
     "duration": 0.253005,
     "end_time": "2022-02-25T05:56:47.825315",
     "exception": false,
     "start_time": "2022-02-25T05:56:47.572310",
     "status": "completed"
    },
    "tags": []
   },
   "outputs": [],
   "source": [
    "salary.loc[salary['Age'] < 14 , 'Age'] = random.randint(14,67)"
   ]
  },
  {
   "cell_type": "code",
   "execution_count": 10,
   "id": "2c061345",
   "metadata": {
    "execution": {
     "iopub.execute_input": "2022-02-25T05:56:48.320104Z",
     "iopub.status.busy": "2022-02-25T05:56:48.319400Z",
     "iopub.status.idle": "2022-02-25T05:56:48.324511Z",
     "shell.execute_reply": "2022-02-25T05:56:48.325092Z",
     "shell.execute_reply.started": "2022-02-23T19:50:57.683083Z"
    },
    "id": "2c061345",
    "papermill": {
     "duration": 0.253379,
     "end_time": "2022-02-25T05:56:48.325270",
     "exception": false,
     "start_time": "2022-02-25T05:56:48.071891",
     "status": "completed"
    },
    "tags": []
   },
   "outputs": [],
   "source": [
    "salary.loc[salary['Age'] > 67 , 'Age'] = random.randint(14,67)"
   ]
  },
  {
   "cell_type": "code",
   "execution_count": 12,
   "id": "5cb29e60",
   "metadata": {
    "execution": {
     "iopub.execute_input": "2022-02-25T05:57:05.499434Z",
     "iopub.status.busy": "2022-02-25T05:57:05.498815Z",
     "iopub.status.idle": "2022-02-25T05:57:05.504673Z",
     "shell.execute_reply": "2022-02-25T05:57:05.504049Z",
     "shell.execute_reply.started": "2022-02-23T19:51:01.498834Z"
    },
    "id": "5cb29e60",
    "papermill": {
     "duration": 0.278584,
     "end_time": "2022-02-25T05:57:05.504841",
     "exception": false,
     "start_time": "2022-02-25T05:57:05.226257",
     "status": "completed"
    },
    "tags": []
   },
   "outputs": [],
   "source": [
    "salary.drop([\"Company Name\",\"Upper Salary\",\"Lower Salary\",\"Employer provided\",\"Hourly\",\"Industry\",\"Salary Estimate\",\"Job Title\",\"Competitors\",\"Headquarters\",\"Job Description\"],axis=1,inplace=True)"
   ]
  },
  {
   "cell_type": "markdown",
   "id": "0168375c",
   "metadata": {
    "id": "0168375c",
    "papermill": {
     "duration": 0.283056,
     "end_time": "2022-02-25T05:57:27.119591",
     "exception": false,
     "start_time": "2022-02-25T05:57:26.836535",
     "status": "completed"
    },
    "tags": []
   },
   "source": [
    "**Dummy encode the catergorical variables**"
   ]
  },
  {
   "cell_type": "code",
   "execution_count": 13,
   "id": "c0703179",
   "metadata": {
    "execution": {
     "iopub.execute_input": "2022-02-25T05:57:27.686218Z",
     "iopub.status.busy": "2022-02-25T05:57:27.685566Z",
     "iopub.status.idle": "2022-02-25T05:57:27.697806Z",
     "shell.execute_reply": "2022-02-25T05:57:27.697272Z",
     "shell.execute_reply.started": "2022-02-23T19:51:03.693019Z"
    },
    "id": "c0703179",
    "papermill": {
     "duration": 0.297861,
     "end_time": "2022-02-25T05:57:27.697961",
     "exception": false,
     "start_time": "2022-02-25T05:57:27.400100",
     "status": "completed"
    },
    "tags": []
   },
   "outputs": [],
   "source": [
    "df_categoric = salary.select_dtypes(include = object)\n",
    "dummy_encoded_variables = pd.get_dummies(df_categoric, drop_first = True)"
   ]
  },
  {
   "cell_type": "code",
   "execution_count": 14,
   "id": "1bf22f75",
   "metadata": {
    "colab": {
     "base_uri": "https://localhost:8080/"
    },
    "execution": {
     "iopub.execute_input": "2022-02-25T05:57:28.266610Z",
     "iopub.status.busy": "2022-02-25T05:57:28.265566Z",
     "iopub.status.idle": "2022-02-25T05:57:28.309455Z",
     "shell.execute_reply": "2022-02-25T05:57:28.310010Z",
     "shell.execute_reply.started": "2022-02-23T19:51:03.710652Z"
    },
    "id": "1bf22f75",
    "outputId": "bed03265-e63b-478a-e085-88586a5fb62e",
    "papermill": {
     "duration": 0.332008,
     "end_time": "2022-02-25T05:57:28.310185",
     "exception": false,
     "start_time": "2022-02-25T05:57:27.978177",
     "status": "completed"
    },
    "tags": []
   },
   "outputs": [
    {
     "data": {
      "text/html": [
       "<div>\n",
       "<style scoped>\n",
       "    .dataframe tbody tr th:only-of-type {\n",
       "        vertical-align: middle;\n",
       "    }\n",
       "\n",
       "    .dataframe tbody tr th {\n",
       "        vertical-align: top;\n",
       "    }\n",
       "\n",
       "    .dataframe thead th {\n",
       "        text-align: right;\n",
       "    }\n",
       "</style>\n",
       "<table border=\"1\" class=\"dataframe\">\n",
       "  <thead>\n",
       "    <tr style=\"text-align: right;\">\n",
       "      <th></th>\n",
       "      <th>Size_10000+</th>\n",
       "      <th>Size_1001 - 5000</th>\n",
       "      <th>Size_201 - 500</th>\n",
       "      <th>Size_5001 - 10000</th>\n",
       "      <th>Size_501 - 1000</th>\n",
       "      <th>Size_51 - 200</th>\n",
       "      <th>Size_unknown</th>\n",
       "      <th>Type of ownership_Company - Private</th>\n",
       "      <th>Type of ownership_Company - Public</th>\n",
       "      <th>Type of ownership_Government</th>\n",
       "      <th>...</th>\n",
       "      <th>job_title_sim_data modeler</th>\n",
       "      <th>job_title_sim_data scientist</th>\n",
       "      <th>job_title_sim_director</th>\n",
       "      <th>job_title_sim_machine learning engineer</th>\n",
       "      <th>job_title_sim_na</th>\n",
       "      <th>job_title_sim_other scientist</th>\n",
       "      <th>seniority_by_title_na</th>\n",
       "      <th>seniority_by_title_sr</th>\n",
       "      <th>Degree_P</th>\n",
       "      <th>Degree_na</th>\n",
       "    </tr>\n",
       "  </thead>\n",
       "  <tbody>\n",
       "    <tr>\n",
       "      <th>0</th>\n",
       "      <td>0</td>\n",
       "      <td>0</td>\n",
       "      <td>0</td>\n",
       "      <td>0</td>\n",
       "      <td>1</td>\n",
       "      <td>0</td>\n",
       "      <td>0</td>\n",
       "      <td>1</td>\n",
       "      <td>0</td>\n",
       "      <td>0</td>\n",
       "      <td>...</td>\n",
       "      <td>0</td>\n",
       "      <td>1</td>\n",
       "      <td>0</td>\n",
       "      <td>0</td>\n",
       "      <td>0</td>\n",
       "      <td>0</td>\n",
       "      <td>1</td>\n",
       "      <td>0</td>\n",
       "      <td>0</td>\n",
       "      <td>0</td>\n",
       "    </tr>\n",
       "    <tr>\n",
       "      <th>1</th>\n",
       "      <td>1</td>\n",
       "      <td>0</td>\n",
       "      <td>0</td>\n",
       "      <td>0</td>\n",
       "      <td>0</td>\n",
       "      <td>0</td>\n",
       "      <td>0</td>\n",
       "      <td>0</td>\n",
       "      <td>0</td>\n",
       "      <td>0</td>\n",
       "      <td>...</td>\n",
       "      <td>0</td>\n",
       "      <td>1</td>\n",
       "      <td>0</td>\n",
       "      <td>0</td>\n",
       "      <td>0</td>\n",
       "      <td>0</td>\n",
       "      <td>1</td>\n",
       "      <td>0</td>\n",
       "      <td>0</td>\n",
       "      <td>0</td>\n",
       "    </tr>\n",
       "    <tr>\n",
       "      <th>2</th>\n",
       "      <td>0</td>\n",
       "      <td>0</td>\n",
       "      <td>0</td>\n",
       "      <td>0</td>\n",
       "      <td>1</td>\n",
       "      <td>0</td>\n",
       "      <td>0</td>\n",
       "      <td>1</td>\n",
       "      <td>0</td>\n",
       "      <td>0</td>\n",
       "      <td>...</td>\n",
       "      <td>0</td>\n",
       "      <td>1</td>\n",
       "      <td>0</td>\n",
       "      <td>0</td>\n",
       "      <td>0</td>\n",
       "      <td>0</td>\n",
       "      <td>1</td>\n",
       "      <td>0</td>\n",
       "      <td>0</td>\n",
       "      <td>0</td>\n",
       "    </tr>\n",
       "    <tr>\n",
       "      <th>3</th>\n",
       "      <td>0</td>\n",
       "      <td>1</td>\n",
       "      <td>0</td>\n",
       "      <td>0</td>\n",
       "      <td>0</td>\n",
       "      <td>0</td>\n",
       "      <td>0</td>\n",
       "      <td>0</td>\n",
       "      <td>0</td>\n",
       "      <td>1</td>\n",
       "      <td>...</td>\n",
       "      <td>0</td>\n",
       "      <td>1</td>\n",
       "      <td>0</td>\n",
       "      <td>0</td>\n",
       "      <td>0</td>\n",
       "      <td>0</td>\n",
       "      <td>1</td>\n",
       "      <td>0</td>\n",
       "      <td>0</td>\n",
       "      <td>1</td>\n",
       "    </tr>\n",
       "    <tr>\n",
       "      <th>4</th>\n",
       "      <td>0</td>\n",
       "      <td>0</td>\n",
       "      <td>0</td>\n",
       "      <td>0</td>\n",
       "      <td>0</td>\n",
       "      <td>1</td>\n",
       "      <td>0</td>\n",
       "      <td>1</td>\n",
       "      <td>0</td>\n",
       "      <td>0</td>\n",
       "      <td>...</td>\n",
       "      <td>0</td>\n",
       "      <td>1</td>\n",
       "      <td>0</td>\n",
       "      <td>0</td>\n",
       "      <td>0</td>\n",
       "      <td>0</td>\n",
       "      <td>1</td>\n",
       "      <td>0</td>\n",
       "      <td>0</td>\n",
       "      <td>1</td>\n",
       "    </tr>\n",
       "  </tbody>\n",
       "</table>\n",
       "<p>5 rows × 99 columns</p>\n",
       "</div>"
      ],
      "text/plain": [
       "   Size_10000+   Size_1001 - 5000   Size_201 - 500   Size_5001 - 10000   \\\n",
       "0             0                  0                0                   0   \n",
       "1             1                  0                0                   0   \n",
       "2             0                  0                0                   0   \n",
       "3             0                  1                0                   0   \n",
       "4             0                  0                0                   0   \n",
       "\n",
       "   Size_501 - 1000   Size_51 - 200   Size_unknown  \\\n",
       "0                 1               0             0   \n",
       "1                 0               0             0   \n",
       "2                 1               0             0   \n",
       "3                 0               0             0   \n",
       "4                 0               1             0   \n",
       "\n",
       "   Type of ownership_Company - Private  Type of ownership_Company - Public  \\\n",
       "0                                    1                                   0   \n",
       "1                                    0                                   0   \n",
       "2                                    1                                   0   \n",
       "3                                    0                                   0   \n",
       "4                                    1                                   0   \n",
       "\n",
       "   Type of ownership_Government  ...  job_title_sim_data modeler  \\\n",
       "0                             0  ...                           0   \n",
       "1                             0  ...                           0   \n",
       "2                             0  ...                           0   \n",
       "3                             1  ...                           0   \n",
       "4                             0  ...                           0   \n",
       "\n",
       "   job_title_sim_data scientist  job_title_sim_director  \\\n",
       "0                             1                       0   \n",
       "1                             1                       0   \n",
       "2                             1                       0   \n",
       "3                             1                       0   \n",
       "4                             1                       0   \n",
       "\n",
       "   job_title_sim_machine learning engineer  job_title_sim_na  \\\n",
       "0                                        0                 0   \n",
       "1                                        0                 0   \n",
       "2                                        0                 0   \n",
       "3                                        0                 0   \n",
       "4                                        0                 0   \n",
       "\n",
       "   job_title_sim_other scientist  seniority_by_title_na  \\\n",
       "0                              0                      1   \n",
       "1                              0                      1   \n",
       "2                              0                      1   \n",
       "3                              0                      1   \n",
       "4                              0                      1   \n",
       "\n",
       "   seniority_by_title_sr  Degree_P  Degree_na  \n",
       "0                      0         0          0  \n",
       "1                      0         0          0  \n",
       "2                      0         0          0  \n",
       "3                      0         0          1  \n",
       "4                      0         0          1  \n",
       "\n",
       "[5 rows x 99 columns]"
      ]
     },
     "execution_count": 14,
     "metadata": {},
     "output_type": "execute_result"
    }
   ],
   "source": [
    "dummy_encoded_variables.head()"
   ]
  },
  {
   "cell_type": "code",
   "execution_count": 15,
   "id": "6e8e1503",
   "metadata": {
    "colab": {
     "base_uri": "https://localhost:8080/"
    },
    "execution": {
     "iopub.execute_input": "2022-02-25T05:57:28.908611Z",
     "iopub.status.busy": "2022-02-25T05:57:28.907627Z",
     "iopub.status.idle": "2022-02-25T05:57:28.912924Z",
     "shell.execute_reply": "2022-02-25T05:57:28.913501Z",
     "shell.execute_reply.started": "2022-02-23T19:51:03.761954Z"
    },
    "id": "6e8e1503",
    "outputId": "1015e24a-a6a8-40bf-c61f-02e3fcf323b9",
    "papermill": {
     "duration": 0.291904,
     "end_time": "2022-02-25T05:57:28.913664",
     "exception": false,
     "start_time": "2022-02-25T05:57:28.621760",
     "status": "completed"
    },
    "tags": []
   },
   "outputs": [
    {
     "data": {
      "text/plain": [
       "(742, 99)"
      ]
     },
     "execution_count": 15,
     "metadata": {},
     "output_type": "execute_result"
    }
   ],
   "source": [
    "dummy_encoded_variables.shape"
   ]
  },
  {
   "cell_type": "markdown",
   "id": "f89ce1ea",
   "metadata": {
    "id": "f89ce1ea",
    "papermill": {
     "duration": 0.283594,
     "end_time": "2022-02-25T05:57:29.483420",
     "exception": false,
     "start_time": "2022-02-25T05:57:29.199826",
     "status": "completed"
    },
    "tags": []
   },
   "source": [
    "**Concatenate numerical and dummy encoded categorical variables**"
   ]
  },
  {
   "cell_type": "code",
   "execution_count": 16,
   "id": "0d97a79e",
   "metadata": {
    "colab": {
     "base_uri": "https://localhost:8080/"
    },
    "execution": {
     "iopub.execute_input": "2022-02-25T05:57:30.055338Z",
     "iopub.status.busy": "2022-02-25T05:57:30.054304Z",
     "iopub.status.idle": "2022-02-25T05:57:30.122127Z",
     "shell.execute_reply": "2022-02-25T05:57:30.122620Z",
     "shell.execute_reply.started": "2022-02-23T19:51:03.771034Z"
    },
    "id": "0d97a79e",
    "outputId": "630f2a7f-853b-460a-acd3-e4d65f2dab3c",
    "papermill": {
     "duration": 0.356691,
     "end_time": "2022-02-25T05:57:30.122802",
     "exception": false,
     "start_time": "2022-02-25T05:57:29.766111",
     "status": "completed"
    },
    "tags": []
   },
   "outputs": [
    {
     "data": {
      "text/html": [
       "<div>\n",
       "<style scoped>\n",
       "    .dataframe tbody tr th:only-of-type {\n",
       "        vertical-align: middle;\n",
       "    }\n",
       "\n",
       "    .dataframe tbody tr th {\n",
       "        vertical-align: top;\n",
       "    }\n",
       "\n",
       "    .dataframe thead th {\n",
       "        text-align: right;\n",
       "    }\n",
       "</style>\n",
       "<table border=\"1\" class=\"dataframe\">\n",
       "  <thead>\n",
       "    <tr style=\"text-align: right;\">\n",
       "      <th></th>\n",
       "      <th>Rating</th>\n",
       "      <th>Founded</th>\n",
       "      <th>Avg Salary(K)</th>\n",
       "      <th>Age</th>\n",
       "      <th>Python</th>\n",
       "      <th>spark</th>\n",
       "      <th>aws</th>\n",
       "      <th>excel</th>\n",
       "      <th>sql</th>\n",
       "      <th>sas</th>\n",
       "      <th>...</th>\n",
       "      <th>job_title_sim_data modeler</th>\n",
       "      <th>job_title_sim_data scientist</th>\n",
       "      <th>job_title_sim_director</th>\n",
       "      <th>job_title_sim_machine learning engineer</th>\n",
       "      <th>job_title_sim_na</th>\n",
       "      <th>job_title_sim_other scientist</th>\n",
       "      <th>seniority_by_title_na</th>\n",
       "      <th>seniority_by_title_sr</th>\n",
       "      <th>Degree_P</th>\n",
       "      <th>Degree_na</th>\n",
       "    </tr>\n",
       "  </thead>\n",
       "  <tbody>\n",
       "    <tr>\n",
       "      <th>0</th>\n",
       "      <td>3.8</td>\n",
       "      <td>1973.0</td>\n",
       "      <td>72.0</td>\n",
       "      <td>48.0</td>\n",
       "      <td>1</td>\n",
       "      <td>0</td>\n",
       "      <td>0</td>\n",
       "      <td>1</td>\n",
       "      <td>0</td>\n",
       "      <td>1</td>\n",
       "      <td>...</td>\n",
       "      <td>0</td>\n",
       "      <td>1</td>\n",
       "      <td>0</td>\n",
       "      <td>0</td>\n",
       "      <td>0</td>\n",
       "      <td>0</td>\n",
       "      <td>1</td>\n",
       "      <td>0</td>\n",
       "      <td>0</td>\n",
       "      <td>0</td>\n",
       "    </tr>\n",
       "    <tr>\n",
       "      <th>1</th>\n",
       "      <td>3.4</td>\n",
       "      <td>1984.0</td>\n",
       "      <td>87.5</td>\n",
       "      <td>37.0</td>\n",
       "      <td>1</td>\n",
       "      <td>0</td>\n",
       "      <td>0</td>\n",
       "      <td>0</td>\n",
       "      <td>0</td>\n",
       "      <td>0</td>\n",
       "      <td>...</td>\n",
       "      <td>0</td>\n",
       "      <td>1</td>\n",
       "      <td>0</td>\n",
       "      <td>0</td>\n",
       "      <td>0</td>\n",
       "      <td>0</td>\n",
       "      <td>1</td>\n",
       "      <td>0</td>\n",
       "      <td>0</td>\n",
       "      <td>0</td>\n",
       "    </tr>\n",
       "    <tr>\n",
       "      <th>2</th>\n",
       "      <td>4.8</td>\n",
       "      <td>2010.0</td>\n",
       "      <td>85.0</td>\n",
       "      <td>23.0</td>\n",
       "      <td>1</td>\n",
       "      <td>1</td>\n",
       "      <td>0</td>\n",
       "      <td>1</td>\n",
       "      <td>1</td>\n",
       "      <td>1</td>\n",
       "      <td>...</td>\n",
       "      <td>0</td>\n",
       "      <td>1</td>\n",
       "      <td>0</td>\n",
       "      <td>0</td>\n",
       "      <td>0</td>\n",
       "      <td>0</td>\n",
       "      <td>1</td>\n",
       "      <td>0</td>\n",
       "      <td>0</td>\n",
       "      <td>0</td>\n",
       "    </tr>\n",
       "    <tr>\n",
       "      <th>3</th>\n",
       "      <td>3.8</td>\n",
       "      <td>1965.0</td>\n",
       "      <td>76.5</td>\n",
       "      <td>56.0</td>\n",
       "      <td>1</td>\n",
       "      <td>0</td>\n",
       "      <td>0</td>\n",
       "      <td>0</td>\n",
       "      <td>0</td>\n",
       "      <td>0</td>\n",
       "      <td>...</td>\n",
       "      <td>0</td>\n",
       "      <td>1</td>\n",
       "      <td>0</td>\n",
       "      <td>0</td>\n",
       "      <td>0</td>\n",
       "      <td>0</td>\n",
       "      <td>1</td>\n",
       "      <td>0</td>\n",
       "      <td>0</td>\n",
       "      <td>1</td>\n",
       "    </tr>\n",
       "    <tr>\n",
       "      <th>4</th>\n",
       "      <td>2.9</td>\n",
       "      <td>1998.0</td>\n",
       "      <td>114.5</td>\n",
       "      <td>23.0</td>\n",
       "      <td>1</td>\n",
       "      <td>0</td>\n",
       "      <td>0</td>\n",
       "      <td>1</td>\n",
       "      <td>1</td>\n",
       "      <td>1</td>\n",
       "      <td>...</td>\n",
       "      <td>0</td>\n",
       "      <td>1</td>\n",
       "      <td>0</td>\n",
       "      <td>0</td>\n",
       "      <td>0</td>\n",
       "      <td>0</td>\n",
       "      <td>1</td>\n",
       "      <td>0</td>\n",
       "      <td>0</td>\n",
       "      <td>1</td>\n",
       "    </tr>\n",
       "  </tbody>\n",
       "</table>\n",
       "<p>5 rows × 119 columns</p>\n",
       "</div>"
      ],
      "text/plain": [
       "   Rating  Founded  Avg Salary(K)   Age  Python  spark  aws  excel  sql  sas  \\\n",
       "0     3.8   1973.0           72.0  48.0       1      0    0      1    0    1   \n",
       "1     3.4   1984.0           87.5  37.0       1      0    0      0    0    0   \n",
       "2     4.8   2010.0           85.0  23.0       1      1    0      1    1    1   \n",
       "3     3.8   1965.0           76.5  56.0       1      0    0      0    0    0   \n",
       "4     2.9   1998.0          114.5  23.0       1      0    0      1    1    1   \n",
       "\n",
       "   ...  job_title_sim_data modeler  job_title_sim_data scientist  \\\n",
       "0  ...                           0                             1   \n",
       "1  ...                           0                             1   \n",
       "2  ...                           0                             1   \n",
       "3  ...                           0                             1   \n",
       "4  ...                           0                             1   \n",
       "\n",
       "   job_title_sim_director  job_title_sim_machine learning engineer  \\\n",
       "0                       0                                        0   \n",
       "1                       0                                        0   \n",
       "2                       0                                        0   \n",
       "3                       0                                        0   \n",
       "4                       0                                        0   \n",
       "\n",
       "   job_title_sim_na  job_title_sim_other scientist  seniority_by_title_na  \\\n",
       "0                 0                              0                      1   \n",
       "1                 0                              0                      1   \n",
       "2                 0                              0                      1   \n",
       "3                 0                              0                      1   \n",
       "4                 0                              0                      1   \n",
       "\n",
       "   seniority_by_title_sr  Degree_P  Degree_na  \n",
       "0                      0         0          0  \n",
       "1                      0         0          0  \n",
       "2                      0         0          0  \n",
       "3                      0         0          1  \n",
       "4                      0         0          1  \n",
       "\n",
       "[5 rows x 119 columns]"
      ]
     },
     "execution_count": 16,
     "metadata": {},
     "output_type": "execute_result"
    }
   ],
   "source": [
    "df_numeric = salary.select_dtypes(include=np.number)\n",
    "# concatenate the numerical and dummy encoded categorical variables column-wise\n",
    "df_dummy = pd.concat([df_numeric, dummy_encoded_variables], axis=1)\n",
    "\n",
    "# display data with dummy variables\n",
    "df_dummy.head()"
   ]
  },
  {
   "cell_type": "code",
   "execution_count": 17,
   "id": "14238cf7",
   "metadata": {
    "colab": {
     "base_uri": "https://localhost:8080/"
    },
    "execution": {
     "iopub.execute_input": "2022-02-25T05:57:30.694325Z",
     "iopub.status.busy": "2022-02-25T05:57:30.693339Z",
     "iopub.status.idle": "2022-02-25T05:57:30.717237Z",
     "shell.execute_reply": "2022-02-25T05:57:30.717707Z",
     "shell.execute_reply.started": "2022-02-23T19:51:03.848428Z"
    },
    "id": "14238cf7",
    "outputId": "84a4aead-d5da-4615-8452-eaa3bcabec03",
    "papermill": {
     "duration": 0.311204,
     "end_time": "2022-02-25T05:57:30.717913",
     "exception": false,
     "start_time": "2022-02-25T05:57:30.406709",
     "status": "completed"
    },
    "tags": []
   },
   "outputs": [],
   "source": [
    "# add the intercept column using 'add_constant()'\n",
    "df_dummy = sm.add_constant(df_dummy)\n",
    "\n",
    "# separate the independent and dependent variables\n",
    "# drop(): drops the specified columns\n",
    "X = df_dummy.drop([\"Avg Salary(K)\"], axis = 1)\n",
    "\n",
    "# extract the target variable from the data set\n",
    "y = df_dummy[[\"Avg Salary(K)\"]]\n"
   ]
  },
  {
   "cell_type": "code",
   "execution_count": 18,
   "id": "7e902f11",
   "metadata": {
    "colab": {
     "base_uri": "https://localhost:8080/"
    },
    "execution": {
     "iopub.execute_input": "2022-02-25T05:57:31.292125Z",
     "iopub.status.busy": "2022-02-25T05:57:31.291109Z",
     "iopub.status.idle": "2022-02-25T05:57:31.298486Z",
     "shell.execute_reply": "2022-02-25T05:57:31.299001Z",
     "shell.execute_reply.started": "2022-02-23T19:51:03.873526Z"
    },
    "id": "7e902f11",
    "outputId": "21913ea1-e359-446c-a191-a81e55989dda",
    "papermill": {
     "duration": 0.298793,
     "end_time": "2022-02-25T05:57:31.299170",
     "exception": false,
     "start_time": "2022-02-25T05:57:31.000377",
     "status": "completed"
    },
    "tags": []
   },
   "outputs": [
    {
     "name": "stdout",
     "output_type": "stream",
     "text": [
      "The shape of X_train is: (593, 119)\n",
      "The shape of X_test is: (149, 119)\n",
      "The shape of y_train is: (593, 1)\n",
      "The shape of y_test is: (149, 1)\n"
     ]
    }
   ],
   "source": [
    "X_train, X_test, y_train, y_test = train_test_split(X, y, test_size = 0.2, random_state = 1)\n",
    "print(\"The shape of X_train is:\",X_train.shape)\n",
    "print(\"The shape of X_test is:\",X_test.shape)\n",
    "print(\"The shape of y_train is:\",y_train.shape)\n",
    "print(\"The shape of y_test is:\",y_test.shape)"
   ]
  },
  {
   "cell_type": "markdown",
   "id": "dc0edee4",
   "metadata": {
    "id": "dc0edee4",
    "papermill": {
     "duration": 0.304879,
     "end_time": "2022-02-25T05:57:31.907578",
     "exception": false,
     "start_time": "2022-02-25T05:57:31.602699",
     "status": "completed"
    },
    "tags": []
   },
   "source": [
    "# 1.OLS"
   ]
  },
  {
   "cell_type": "code",
   "execution_count": 19,
   "id": "bd565ebe",
   "metadata": {
    "colab": {
     "base_uri": "https://localhost:8080/"
    },
    "execution": {
     "iopub.execute_input": "2022-02-25T05:57:32.525019Z",
     "iopub.status.busy": "2022-02-25T05:57:32.522356Z",
     "iopub.status.idle": "2022-02-25T05:57:32.665831Z",
     "shell.execute_reply": "2022-02-25T05:57:32.666794Z",
     "shell.execute_reply.started": "2022-02-23T19:51:03.884787Z"
    },
    "id": "bd565ebe",
    "outputId": "ede6f1d2-d274-405d-fb82-328229d58824",
    "papermill": {
     "duration": 0.445548,
     "end_time": "2022-02-25T05:57:32.667082",
     "exception": false,
     "start_time": "2022-02-25T05:57:32.221534",
     "status": "completed"
    },
    "tags": []
   },
   "outputs": [
    {
     "name": "stdout",
     "output_type": "stream",
     "text": [
      "                            OLS Regression Results                            \n",
      "==============================================================================\n",
      "Dep. Variable:          Avg Salary(K)   R-squared:                       0.665\n",
      "Model:                            OLS   Adj. R-squared:                  0.583\n",
      "Method:                 Least Squares   F-statistic:                     8.064\n",
      "Date:                Tue, 29 Mar 2022   Prob (F-statistic):           9.91e-62\n",
      "Time:                        10:16:09   Log-Likelihood:                -2666.4\n",
      "No. Observations:                 593   AIC:                             5569.\n",
      "Df Residuals:                     475   BIC:                             6086.\n",
      "Df Model:                         117                                         \n",
      "Covariance Type:            nonrobust                                         \n",
      "====================================================================================================================\n",
      "                                                       coef    std err          t      P>|t|      [0.025      0.975]\n",
      "--------------------------------------------------------------------------------------------------------------------\n",
      "const                                              182.7025     91.932      1.987      0.047       2.059     363.346\n",
      "Rating                                               4.0518      2.435      1.664      0.097      -0.732       8.836\n",
      "Founded                                             -0.0529      0.038     -1.384      0.167      -0.128       0.022\n",
      "Age                                                 -0.1652      0.139     -1.185      0.237      -0.439       0.109\n",
      "Python                                               9.4867      2.923      3.246      0.001       3.743      15.230\n",
      "spark                                               -1.0320      3.878     -0.266      0.790      -8.652       6.588\n",
      "aws                                                 -0.4859      3.120     -0.156      0.876      -6.616       5.644\n",
      "excel                                                1.2533      2.549      0.492      0.623      -3.755       6.262\n",
      "sql                                                 -3.8247      3.183     -1.201      0.230     -10.080       2.431\n",
      "sas                                                 11.5531      4.537      2.546      0.011       2.638      20.469\n",
      "keras                                               22.3236      8.123      2.748      0.006       6.361      38.286\n",
      "pytorch                                            -15.8907      7.276     -2.184      0.029     -30.189      -1.593\n",
      "scikit                                               0.0006      5.894      0.000      1.000     -11.581      11.582\n",
      "tensor                                               5.4888      6.832      0.803      0.422      -7.935      18.913\n",
      "hadoop                                               2.9626      4.116      0.720      0.472      -5.124      11.050\n",
      "tableau                                             -6.4649      3.809     -1.697      0.090     -13.949       1.020\n",
      "bi                                                  10.8110      5.343      2.023      0.044       0.312      21.310\n",
      "flink                                               -8.1415     11.302     -0.720      0.472     -30.350      14.067\n",
      "mongo                                               13.1354      5.665      2.319      0.021       2.004      24.267\n",
      "google_an                                          -20.3368     11.852     -1.716      0.087     -43.626       2.952\n",
      "Size_10000+                                         -2.0663      9.861     -0.210      0.834     -21.443      17.311\n",
      "Size_1001 - 5000                                     1.7094      8.386      0.204      0.839     -14.769      18.187\n",
      "Size_201 - 500                                      -5.6177      8.027     -0.700      0.484     -21.391      10.156\n",
      "Size_5001 - 10000                                  -11.5880      9.709     -1.194      0.233     -30.665       7.489\n",
      "Size_501 - 1000                                     -6.7423      8.072     -0.835      0.404     -22.604       9.119\n",
      "Size_51 - 200                                        3.3352      7.691      0.434      0.665     -11.778      18.449\n",
      "Size_unknown                                        16.6846     13.566      1.230      0.219      -9.973      43.342\n",
      "Type of ownership_Company - Private                -12.3909     16.396     -0.756      0.450     -44.608      19.826\n",
      "Type of ownership_Company - Public                  -7.4614     16.801     -0.444      0.657     -40.474      25.552\n",
      "Type of ownership_Government                       -21.7932     25.181     -0.865      0.387     -71.273      27.687\n",
      "Type of ownership_Hospital                         -53.5868     20.163     -2.658      0.008     -93.207     -13.966\n",
      "Type of ownership_Nonprofit Organization           -30.1092     16.706     -1.802      0.072     -62.937       2.718\n",
      "Type of ownership_Other Organization               -19.7601     22.123     -0.893      0.372     -63.232      23.712\n",
      "Type of ownership_School / School District          -7.8539     28.492     -0.276      0.783     -63.839      48.131\n",
      "Type of ownership_Subsidiary or Business Segment    -8.9563     16.939     -0.529      0.597     -42.242      24.329\n",
      "Sector_Aerospace & Defense                           1.9363     35.619      0.054      0.957     -68.055      71.927\n",
      "Sector_Agriculture & Forestry                       -4.3533     44.485     -0.098      0.922     -91.764      83.057\n",
      "Sector_Arts, Entertainment & Recreation            -15.8943     40.055     -0.397      0.692     -94.601      62.812\n",
      "Sector_Biotech & Pharmaceuticals                    -2.6343     35.120     -0.075      0.940     -71.645      66.376\n",
      "Sector_Business Services                            -7.4309     34.986     -0.212      0.832     -76.178      61.316\n",
      "Sector_Construction, Repair & Maintenance          -27.1901     40.033     -0.679      0.497    -105.854      51.474\n",
      "Sector_Consumer Services                           -10.1638     38.039     -0.267      0.789     -84.910      64.582\n",
      "Sector_Education                                   -17.7559     36.650     -0.484      0.628     -89.771      54.260\n",
      "Sector_Finance                                      -7.7416     35.164     -0.220      0.826     -76.837      61.354\n",
      "Sector_Government                                   -6.0736     36.939     -0.164      0.869     -78.658      66.510\n",
      "Sector_Health Care                                   7.5138     35.395      0.212      0.832     -62.036      77.064\n",
      "Sector_Information Technology                        0.9328     34.700      0.027      0.979     -67.252      69.118\n",
      "Sector_Insurance                                    -2.5891     35.156     -0.074      0.941     -71.669      66.491\n",
      "Sector_Manufacturing                               -12.8645     35.572     -0.362      0.718     -82.762      57.033\n",
      "Sector_Media                                        -3.5674     37.221     -0.096      0.924     -76.706      69.571\n",
      "Sector_Mining & Metals                           -2.499e-14   4.15e-14     -0.601      0.548   -1.07e-13    5.67e-14\n",
      "Sector_Non-Profit                                   -4.8951     38.432     -0.127      0.899     -80.412      70.622\n",
      "Sector_Oil, Gas, Energy & Utilities                -16.7033     40.176     -0.416      0.678     -95.649      62.242\n",
      "Sector_Real Estate                                 -20.1919     36.445     -0.554      0.580     -91.804      51.421\n",
      "Sector_Retail                                       12.8796     35.952      0.358      0.720     -57.765      83.524\n",
      "Sector_Telecommunications                          -17.9240     36.981     -0.485      0.628     -90.590      54.742\n",
      "Sector_Transportation & Logistics                  -12.8660     37.807     -0.340      0.734     -87.156      61.424\n",
      "Sector_Travel & Tourism                            -19.0290     36.734     -0.518      0.605     -91.210      53.151\n",
      "Revenue_$1 to $5 million (USD)                     -43.0790     14.872     -2.897      0.004     -72.302     -13.857\n",
      "Revenue_$10 to $25 million (USD)                   -17.3410      8.194     -2.116      0.035     -33.443      -1.239\n",
      "Revenue_$10+ billion (USD)                           5.0754      7.570      0.670      0.503      -9.799      19.950\n",
      "Revenue_$100 to $500 million (USD)                  -6.6798      6.161     -1.084      0.279     -18.785       5.426\n",
      "Revenue_$2 to $5 billion (USD)                      -9.5763      7.354     -1.302      0.193     -24.027       4.874\n",
      "Revenue_$25 to $50 million (USD)                    -3.9586      8.617     -0.459      0.646     -20.892      12.975\n",
      "Revenue_$5 to $10 billion (USD)                     -9.4784      9.425     -1.006      0.315     -27.998       9.041\n",
      "Revenue_$5 to $10 million (USD)                     24.8464     10.746      2.312      0.021       3.731      45.962\n",
      "Revenue_$50 to $100 million (USD)                    7.2767      7.229      1.007      0.315      -6.928      21.481\n",
      "Revenue_$500 million to $1 billion (USD)            -5.4908      7.311     -0.751      0.453     -19.856       8.875\n",
      "Revenue_Less than $1 million (USD)                 -17.7155     26.471     -0.669      0.504     -69.730      34.299\n",
      "Revenue_Unknown / Non-Applicable                    -1.5143      5.983     -0.253      0.800     -13.271      10.243\n",
      "Job Location_AZ                                      0.0971     15.536      0.006      0.995     -30.430      30.625\n",
      "Job Location_CA                                     52.0748     12.594      4.135      0.000      27.328      76.822\n",
      "Job Location_CO                                     53.6417     17.903      2.996      0.003      18.463      88.821\n",
      "Job Location_CT                                     14.0784     18.449      0.763      0.446     -22.173      50.330\n",
      "Job Location_DC                                     47.1402     15.125      3.117      0.002      17.420      76.860\n",
      "Job Location_DE                                     13.4242     21.160      0.634      0.526     -28.155      55.003\n",
      "Job Location_FL                                     17.3452     14.107      1.230      0.219     -10.375      45.065\n",
      "Job Location_GA                                     -4.1108     19.622     -0.210      0.834     -42.667      34.446\n",
      "Job Location_IA                                     28.7353     18.489      1.554      0.121      -7.595      65.065\n",
      "Job Location_ID                                     17.4774     22.062      0.792      0.429     -25.874      60.829\n",
      "Job Location_IL                                     38.3755     13.467      2.849      0.005      11.912      64.839\n",
      "Job Location_IN                                      6.6141     15.482      0.427      0.669     -23.808      37.036\n",
      "Job Location_KS                                     -4.9352     22.827     -0.216      0.829     -49.789      39.919\n",
      "Job Location_KY                                     61.9119     18.499      3.347      0.001      25.561      98.263\n",
      "Job Location_LA                                      7.2524     23.847      0.304      0.761     -39.607      54.112\n",
      "Job Location_MA                                     28.0812     13.074      2.148      0.032       2.390      53.772\n",
      "Job Location_MD                                     29.9837     12.793      2.344      0.020       4.846      55.122\n",
      "Job Location_MI                                     40.1621     17.087      2.351      0.019       6.588      73.737\n",
      "Job Location_MN                                     41.3262     28.008      1.476      0.141     -13.708      96.361\n",
      "Job Location_MO                                     26.2884     16.459      1.597      0.111      -6.054      58.631\n",
      "Job Location_NC                                     28.1346     14.909      1.887      0.060      -1.162      57.431\n",
      "Job Location_NE                                      2.4852     29.055      0.086      0.932     -54.607      59.577\n",
      "Job Location_NJ                                     50.2418     14.620      3.436      0.001      21.513      78.970\n",
      "Job Location_NM                                      1.3660     23.038      0.059      0.953     -43.904      46.636\n",
      "Job Location_NY                                     31.3377     13.047      2.402      0.017       5.700      56.975\n",
      "Job Location_OH                                     31.6982     14.770      2.146      0.032       2.676      60.720\n",
      "Job Location_OR                                     14.7889     18.427      0.803      0.423     -21.419      50.997\n",
      "Job Location_PA                                     22.2758     14.480      1.538      0.125      -6.177      50.729\n",
      "Job Location_RI                                     54.9223     29.941      1.834      0.067      -3.911     113.756\n",
      "Job Location_SC                                     15.6974     27.791      0.565      0.572     -38.910      70.305\n",
      "Job Location_TN                                     -1.8376     15.254     -0.120      0.904     -31.811      28.135\n",
      "Job Location_TX                                     20.7644     13.823      1.502      0.134      -6.397      47.926\n",
      "Job Location_UT                                     51.6228     19.355      2.667      0.008      13.592      89.654\n",
      "Job Location_VA                                     24.7991     12.866      1.927      0.055      -0.482      50.080\n",
      "Job Location_WA                                     34.5750     16.298      2.121      0.034       2.551      66.599\n",
      "Job Location_WI                                     20.5642     15.852      1.297      0.195     -10.584      51.713\n",
      "job_title_sim_analyst                               -3.2099      8.081     -0.397      0.691     -19.089      12.669\n",
      "job_title_sim_data analitics                        -9.1197     13.837     -0.659      0.510     -36.309      18.069\n",
      "job_title_sim_data engineer                         23.5840      8.451      2.791      0.005       6.978      40.190\n",
      "job_title_sim_data modeler                          10.6609     14.658      0.727      0.467     -18.141      39.463\n",
      "job_title_sim_data scientist                        29.7898      7.873      3.784      0.000      14.319      45.260\n",
      "job_title_sim_director                              53.0037     14.603      3.630      0.000      24.309      81.698\n",
      "job_title_sim_machine learning engineer             55.7305     11.788      4.728      0.000      32.567      78.894\n",
      "job_title_sim_na                                     2.7574     13.010      0.212      0.832     -22.808      28.322\n",
      "job_title_sim_other scientist                       14.2818      8.393      1.702      0.089      -2.210      30.774\n",
      "seniority_by_title_na                              -35.6951     26.594     -1.342      0.180     -87.952      16.561\n",
      "seniority_by_title_sr                               -9.0329     26.648     -0.339      0.735     -61.395      43.329\n",
      "Degree_P                                            10.1480      4.270      2.376      0.018       1.757      18.539\n",
      "Degree_na                                            4.1068      2.852      1.440      0.151      -1.497       9.711\n",
      "==============================================================================\n",
      "Omnibus:                       75.373   Durbin-Watson:                   1.966\n",
      "Prob(Omnibus):                  0.000   Jarque-Bera (JB):              199.683\n",
      "Skew:                           0.645   Prob(JB):                     4.36e-44\n",
      "Kurtosis:                       5.534   Cond. No.                     1.03e+16\n",
      "==============================================================================\n",
      "\n",
      "Notes:\n",
      "[1] Standard Errors assume that the covariance matrix of the errors is correctly specified.\n",
      "[2] The smallest eigenvalue is 2.19e-23. This might indicate that there are\n",
      "strong multicollinearity problems or that the design matrix is singular.\n"
     ]
    }
   ],
   "source": [
    "linreg_full = sm.OLS(y_train, X_train).fit()\n",
    "print(linreg_full.summary())"
   ]
  },
  {
   "cell_type": "code",
   "execution_count": 20,
   "id": "a0a8ccfa",
   "metadata": {
    "colab": {
     "base_uri": "https://localhost:8080/"
    },
    "execution": {
     "iopub.execute_input": "2022-02-25T05:57:33.298260Z",
     "iopub.status.busy": "2022-02-25T05:57:33.297109Z",
     "iopub.status.idle": "2022-02-25T05:57:33.308550Z",
     "shell.execute_reply": "2022-02-25T05:57:33.309603Z",
     "shell.execute_reply.started": "2022-02-23T19:51:04.018469Z"
    },
    "id": "a0a8ccfa",
    "outputId": "c005d037-f82b-4f46-e8b3-66e2e7ac81da",
    "papermill": {
     "duration": 0.322775,
     "end_time": "2022-02-25T05:57:33.309906",
     "exception": false,
     "start_time": "2022-02-25T05:57:32.987131",
     "status": "completed"
    },
    "tags": []
   },
   "outputs": [
    {
     "data": {
      "text/plain": [
       "273    150.177478\n",
       "414     52.980414\n",
       "529    119.687484\n",
       "502     96.027582\n",
       "729     84.471525\n",
       "          ...    \n",
       "247    104.337667\n",
       "341    103.392522\n",
       "298    136.500482\n",
       "132     90.253924\n",
       "656    129.297354\n",
       "Length: 149, dtype: float64"
      ]
     },
     "execution_count": 20,
     "metadata": {},
     "output_type": "execute_result"
    }
   ],
   "source": [
    "linreg_full_predictions = linreg_full.predict(X_test)\n",
    "linreg_full_predictions"
   ]
  },
  {
   "cell_type": "code",
   "execution_count": 21,
   "id": "b7750f6c",
   "metadata": {
    "colab": {
     "base_uri": "https://localhost:8080/"
    },
    "execution": {
     "iopub.execute_input": "2022-02-25T05:57:33.941014Z",
     "iopub.status.busy": "2022-02-25T05:57:33.940112Z",
     "iopub.status.idle": "2022-02-25T05:57:33.943427Z",
     "shell.execute_reply": "2022-02-25T05:57:33.943964Z",
     "shell.execute_reply.started": "2022-02-23T19:51:04.034907Z"
    },
    "id": "b7750f6c",
    "outputId": "0ac5bc1c-1860-4ca0-9889-8e525ff85c65",
    "papermill": {
     "duration": 0.296938,
     "end_time": "2022-02-25T05:57:33.944136",
     "exception": false,
     "start_time": "2022-02-25T05:57:33.647198",
     "status": "completed"
    },
    "tags": []
   },
   "outputs": [
    {
     "data": {
      "text/plain": [
       "273     90.0\n",
       "414     62.5\n",
       "529    125.0\n",
       "502     97.5\n",
       "729     70.0\n",
       "       ...  \n",
       "247     50.0\n",
       "341    111.5\n",
       "298    162.5\n",
       "132     81.5\n",
       "656    114.0\n",
       "Name: Avg Salary(K), Length: 149, dtype: float64"
      ]
     },
     "execution_count": 21,
     "metadata": {},
     "output_type": "execute_result"
    }
   ],
   "source": [
    "actual_salary = y_test[\"Avg Salary(K)\"]\n",
    "actual_salary"
   ]
  },
  {
   "cell_type": "code",
   "execution_count": 22,
   "id": "2579edac",
   "metadata": {
    "execution": {
     "iopub.execute_input": "2022-02-25T05:57:34.523558Z",
     "iopub.status.busy": "2022-02-25T05:57:34.522480Z",
     "iopub.status.idle": "2022-02-25T05:57:34.526784Z",
     "shell.execute_reply": "2022-02-25T05:57:34.527371Z",
     "shell.execute_reply.started": "2022-02-23T19:51:04.047682Z"
    },
    "id": "2579edac",
    "papermill": {
     "duration": 0.297583,
     "end_time": "2022-02-25T05:57:34.527556",
     "exception": false,
     "start_time": "2022-02-25T05:57:34.229973",
     "status": "completed"
    },
    "tags": []
   },
   "outputs": [],
   "source": [
    "linreg_full_rmse = rmse(actual_salary,linreg_full_predictions )\n",
    "linreg_full_rsquared = linreg_full.rsquared\n",
    "linreg_full_rsquared_adj = linreg_full.rsquared_adj "
   ]
  },
  {
   "cell_type": "code",
   "execution_count": 23,
   "id": "9884cb9d",
   "metadata": {
    "colab": {
     "base_uri": "https://localhost:8080/"
    },
    "execution": {
     "iopub.execute_input": "2022-02-25T05:57:35.104499Z",
     "iopub.status.busy": "2022-02-25T05:57:35.103426Z",
     "iopub.status.idle": "2022-02-25T05:57:35.120166Z",
     "shell.execute_reply": "2022-02-25T05:57:35.120620Z",
     "shell.execute_reply.started": "2022-02-23T19:51:04.055687Z"
    },
    "id": "9884cb9d",
    "outputId": "a37fdfc5-c505-40f7-ef51-0c0515c87304",
    "papermill": {
     "duration": 0.306232,
     "end_time": "2022-02-25T05:57:35.120810",
     "exception": false,
     "start_time": "2022-02-25T05:57:34.814578",
     "status": "completed"
    },
    "tags": []
   },
   "outputs": [
    {
     "name": "stderr",
     "output_type": "stream",
     "text": [
      "C:\\Users\\OMKAR\\AppData\\Local\\Temp/ipykernel_16636/2469086403.py:8: FutureWarning: The frame.append method is deprecated and will be removed from pandas in a future version. Use pandas.concat instead.\n",
      "  result_tabulation = result_tabulation.append(linreg_full_metrics, ignore_index = True)\n"
     ]
    },
    {
     "data": {
      "text/html": [
       "<div>\n",
       "<style scoped>\n",
       "    .dataframe tbody tr th:only-of-type {\n",
       "        vertical-align: middle;\n",
       "    }\n",
       "\n",
       "    .dataframe tbody tr th {\n",
       "        vertical-align: top;\n",
       "    }\n",
       "\n",
       "    .dataframe thead th {\n",
       "        text-align: right;\n",
       "    }\n",
       "</style>\n",
       "<table border=\"1\" class=\"dataframe\">\n",
       "  <thead>\n",
       "    <tr style=\"text-align: right;\">\n",
       "      <th></th>\n",
       "      <th>Model</th>\n",
       "      <th>RMSE</th>\n",
       "      <th>R-Squared</th>\n",
       "      <th>Adj. R-Squared</th>\n",
       "    </tr>\n",
       "  </thead>\n",
       "  <tbody>\n",
       "    <tr>\n",
       "      <th>0</th>\n",
       "      <td>Linreg full model</td>\n",
       "      <td>28.33744</td>\n",
       "      <td>0.665127</td>\n",
       "      <td>0.582642</td>\n",
       "    </tr>\n",
       "  </tbody>\n",
       "</table>\n",
       "</div>"
      ],
      "text/plain": [
       "                Model      RMSE R-Squared Adj. R-Squared\n",
       "0  Linreg full model   28.33744  0.665127       0.582642"
      ]
     },
     "execution_count": 23,
     "metadata": {},
     "output_type": "execute_result"
    }
   ],
   "source": [
    "cols = ['Model', 'RMSE', 'R-Squared', 'Adj. R-Squared','Accuracy']\n",
    "result_tabulation = pd.DataFrame(columns = cols)\n",
    "linreg_full_metrics = pd.Series({'Model': \"Linreg full model \",\n",
    "                     'RMSE':linreg_full_rmse,\n",
    "                     'R-Squared': linreg_full_rsquared,\n",
    "                     'Adj. R-Squared': linreg_full_rsquared_adj     \n",
    "                   })\n",
    "result_tabulation = result_tabulation.append(linreg_full_metrics, ignore_index = True)\n",
    "result_tabulation"
   ]
  },
  {
   "cell_type": "markdown",
   "id": "080716a0",
   "metadata": {
    "id": "080716a0",
    "papermill": {
     "duration": 0.287835,
     "end_time": "2022-02-25T05:57:35.695936",
     "exception": false,
     "start_time": "2022-02-25T05:57:35.408101",
     "status": "completed"
    },
    "tags": []
   },
   "source": [
    "# 2.Linear Regression with SGD"
   ]
  },
  {
   "cell_type": "code",
   "execution_count": 24,
   "id": "82589817",
   "metadata": {
    "execution": {
     "iopub.execute_input": "2022-02-25T05:57:36.275489Z",
     "iopub.status.busy": "2022-02-25T05:57:36.274814Z",
     "iopub.status.idle": "2022-02-25T05:57:36.359280Z",
     "shell.execute_reply": "2022-02-25T05:57:36.358636Z",
     "shell.execute_reply.started": "2022-02-23T19:51:04.086884Z"
    },
    "id": "82589817",
    "papermill": {
     "duration": 0.376052,
     "end_time": "2022-02-25T05:57:36.359439",
     "exception": false,
     "start_time": "2022-02-25T05:57:35.983387",
     "status": "completed"
    },
    "tags": []
   },
   "outputs": [],
   "source": [
    "# importing library min max scaler to scale data\n",
    "from sklearn.preprocessing import MinMaxScaler\n",
    "#import library for implement Linear Regression\n",
    "from sklearn.linear_model import SGDRegressor \n",
    "from sklearn.metrics import mean_squared_error\n",
    "from math import sqrt\n",
    "from sklearn.preprocessing import StandardScaler\n"
   ]
  },
  {
   "cell_type": "code",
   "execution_count": 25,
   "id": "7fd6bded",
   "metadata": {
    "execution": {
     "iopub.execute_input": "2022-02-25T05:57:36.936766Z",
     "iopub.status.busy": "2022-02-25T05:57:36.935732Z",
     "iopub.status.idle": "2022-02-25T05:57:36.938617Z",
     "shell.execute_reply": "2022-02-25T05:57:36.938124Z",
     "shell.execute_reply.started": "2022-02-23T19:51:04.180738Z"
    },
    "id": "7fd6bded",
    "papermill": {
     "duration": 0.293313,
     "end_time": "2022-02-25T05:57:36.938780",
     "exception": false,
     "start_time": "2022-02-25T05:57:36.645467",
     "status": "completed"
    },
    "tags": []
   },
   "outputs": [],
   "source": [
    "scaler= StandardScaler()"
   ]
  },
  {
   "cell_type": "code",
   "execution_count": 26,
   "id": "831acce9",
   "metadata": {
    "colab": {
     "base_uri": "https://localhost:8080/"
    },
    "execution": {
     "iopub.execute_input": "2022-02-25T05:57:37.519424Z",
     "iopub.status.busy": "2022-02-25T05:57:37.518378Z",
     "iopub.status.idle": "2022-02-25T05:57:37.529567Z",
     "shell.execute_reply": "2022-02-25T05:57:37.530104Z",
     "shell.execute_reply.started": "2022-02-23T19:51:04.188312Z"
    },
    "id": "831acce9",
    "outputId": "3938a36d-58c4-4479-e849-f94b3237c65d",
    "papermill": {
     "duration": 0.303253,
     "end_time": "2022-02-25T05:57:37.530289",
     "exception": false,
     "start_time": "2022-02-25T05:57:37.227036",
     "status": "completed"
    },
    "tags": []
   },
   "outputs": [
    {
     "data": {
      "text/plain": [
       "StandardScaler()"
      ]
     },
     "execution_count": 26,
     "metadata": {},
     "output_type": "execute_result"
    }
   ],
   "source": [
    "scaler.fit(X)"
   ]
  },
  {
   "cell_type": "code",
   "execution_count": 27,
   "id": "9d1fe241",
   "metadata": {
    "execution": {
     "iopub.execute_input": "2022-02-25T05:57:38.113140Z",
     "iopub.status.busy": "2022-02-25T05:57:38.112459Z",
     "iopub.status.idle": "2022-02-25T05:57:38.120549Z",
     "shell.execute_reply": "2022-02-25T05:57:38.119951Z",
     "shell.execute_reply.started": "2022-02-23T19:51:04.205755Z"
    },
    "id": "9d1fe241",
    "papermill": {
     "duration": 0.301731,
     "end_time": "2022-02-25T05:57:38.120700",
     "exception": false,
     "start_time": "2022-02-25T05:57:37.818969",
     "status": "completed"
    },
    "tags": []
   },
   "outputs": [],
   "source": [
    "X1= scaler.fit_transform(X)"
   ]
  },
  {
   "cell_type": "code",
   "execution_count": 28,
   "id": "747b4f7e",
   "metadata": {
    "colab": {
     "base_uri": "https://localhost:8080/"
    },
    "execution": {
     "iopub.execute_input": "2022-02-25T05:57:38.723458Z",
     "iopub.status.busy": "2022-02-25T05:57:38.722470Z",
     "iopub.status.idle": "2022-02-25T05:57:38.729216Z",
     "shell.execute_reply": "2022-02-25T05:57:38.729810Z",
     "shell.execute_reply.started": "2022-02-23T19:51:04.220734Z"
    },
    "id": "747b4f7e",
    "outputId": "04988831-024d-4f54-b20f-195a1b826452",
    "papermill": {
     "duration": 0.318815,
     "end_time": "2022-02-25T05:57:38.729984",
     "exception": false,
     "start_time": "2022-02-25T05:57:38.411169",
     "status": "completed"
    },
    "tags": []
   },
   "outputs": [
    {
     "data": {
      "text/plain": [
       "array([[ 0.        ,  0.19731918,  0.02945032, ..., -0.64919638,\n",
       "        -0.41049231, -1.03288546],\n",
       "       [ 0.        , -0.50974121,  0.23901746, ..., -0.64919638,\n",
       "        -0.41049231, -1.03288546],\n",
       "       [ 0.        ,  1.96497014,  0.73435796, ..., -0.64919638,\n",
       "        -0.41049231, -1.03288546],\n",
       "       ...,\n",
       "       [ 0.        , -1.92386197,  0.23901746, ..., -0.64919638,\n",
       "         2.43609923, -1.03288546],\n",
       "       [ 0.        , -0.8632714 ,  0.39142992, ..., -0.64919638,\n",
       "        -0.41049231,  0.96816156],\n",
       "       [ 0.        , -0.15621101, -0.08485903, ..., -0.64919638,\n",
       "        -0.41049231, -1.03288546]])"
      ]
     },
     "execution_count": 28,
     "metadata": {},
     "output_type": "execute_result"
    }
   ],
   "source": [
    "X1"
   ]
  },
  {
   "cell_type": "code",
   "execution_count": 29,
   "id": "95ae3fd7",
   "metadata": {
    "execution": {
     "iopub.execute_input": "2022-02-25T05:57:39.318227Z",
     "iopub.status.busy": "2022-02-25T05:57:39.317501Z",
     "iopub.status.idle": "2022-02-25T05:57:39.321891Z",
     "shell.execute_reply": "2022-02-25T05:57:39.321282Z",
     "shell.execute_reply.started": "2022-02-23T19:51:04.233792Z"
    },
    "id": "95ae3fd7",
    "papermill": {
     "duration": 0.295788,
     "end_time": "2022-02-25T05:57:39.322075",
     "exception": false,
     "start_time": "2022-02-25T05:57:39.026287",
     "status": "completed"
    },
    "tags": []
   },
   "outputs": [],
   "source": [
    "y1=y"
   ]
  },
  {
   "cell_type": "code",
   "execution_count": 30,
   "id": "4e91d803",
   "metadata": {
    "colab": {
     "base_uri": "https://localhost:8080/"
    },
    "execution": {
     "iopub.execute_input": "2022-02-25T05:57:39.965693Z",
     "iopub.status.busy": "2022-02-25T05:57:39.964679Z",
     "iopub.status.idle": "2022-02-25T05:57:39.975562Z",
     "shell.execute_reply": "2022-02-25T05:57:39.976228Z",
     "shell.execute_reply.started": "2022-02-23T19:51:04.247387Z"
    },
    "id": "4e91d803",
    "outputId": "36f68b95-839b-424c-aedb-33819181ea90",
    "papermill": {
     "duration": 0.327233,
     "end_time": "2022-02-25T05:57:39.976408",
     "exception": false,
     "start_time": "2022-02-25T05:57:39.649175",
     "status": "completed"
    },
    "tags": []
   },
   "outputs": [
    {
     "data": {
      "text/html": [
       "<div>\n",
       "<style scoped>\n",
       "    .dataframe tbody tr th:only-of-type {\n",
       "        vertical-align: middle;\n",
       "    }\n",
       "\n",
       "    .dataframe tbody tr th {\n",
       "        vertical-align: top;\n",
       "    }\n",
       "\n",
       "    .dataframe thead th {\n",
       "        text-align: right;\n",
       "    }\n",
       "</style>\n",
       "<table border=\"1\" class=\"dataframe\">\n",
       "  <thead>\n",
       "    <tr style=\"text-align: right;\">\n",
       "      <th></th>\n",
       "      <th>Avg Salary(K)</th>\n",
       "    </tr>\n",
       "  </thead>\n",
       "  <tbody>\n",
       "    <tr>\n",
       "      <th>0</th>\n",
       "      <td>72.0</td>\n",
       "    </tr>\n",
       "    <tr>\n",
       "      <th>1</th>\n",
       "      <td>87.5</td>\n",
       "    </tr>\n",
       "    <tr>\n",
       "      <th>2</th>\n",
       "      <td>85.0</td>\n",
       "    </tr>\n",
       "    <tr>\n",
       "      <th>3</th>\n",
       "      <td>76.5</td>\n",
       "    </tr>\n",
       "    <tr>\n",
       "      <th>4</th>\n",
       "      <td>114.5</td>\n",
       "    </tr>\n",
       "    <tr>\n",
       "      <th>...</th>\n",
       "      <td>...</td>\n",
       "    </tr>\n",
       "    <tr>\n",
       "      <th>737</th>\n",
       "      <td>84.5</td>\n",
       "    </tr>\n",
       "    <tr>\n",
       "      <th>738</th>\n",
       "      <td>102.5</td>\n",
       "    </tr>\n",
       "    <tr>\n",
       "      <th>739</th>\n",
       "      <td>73.5</td>\n",
       "    </tr>\n",
       "    <tr>\n",
       "      <th>740</th>\n",
       "      <td>127.5</td>\n",
       "    </tr>\n",
       "    <tr>\n",
       "      <th>741</th>\n",
       "      <td>93.5</td>\n",
       "    </tr>\n",
       "  </tbody>\n",
       "</table>\n",
       "<p>742 rows × 1 columns</p>\n",
       "</div>"
      ],
      "text/plain": [
       "     Avg Salary(K)\n",
       "0             72.0\n",
       "1             87.5\n",
       "2             85.0\n",
       "3             76.5\n",
       "4            114.5\n",
       "..             ...\n",
       "737           84.5\n",
       "738          102.5\n",
       "739           73.5\n",
       "740          127.5\n",
       "741           93.5\n",
       "\n",
       "[742 rows x 1 columns]"
      ]
     },
     "execution_count": 30,
     "metadata": {},
     "output_type": "execute_result"
    }
   ],
   "source": [
    "y1"
   ]
  },
  {
   "cell_type": "code",
   "execution_count": 31,
   "id": "ffaebc16",
   "metadata": {
    "colab": {
     "base_uri": "https://localhost:8080/"
    },
    "execution": {
     "iopub.execute_input": "2022-02-25T05:57:40.574182Z",
     "iopub.status.busy": "2022-02-25T05:57:40.573279Z",
     "iopub.status.idle": "2022-02-25T05:57:40.581674Z",
     "shell.execute_reply": "2022-02-25T05:57:40.582290Z",
     "shell.execute_reply.started": "2022-02-23T19:51:04.265713Z"
    },
    "id": "ffaebc16",
    "outputId": "e6a2b3a4-3951-41e8-8e9f-55663f86a23e",
    "papermill": {
     "duration": 0.31119,
     "end_time": "2022-02-25T05:57:40.582484",
     "exception": false,
     "start_time": "2022-02-25T05:57:40.271294",
     "status": "completed"
    },
    "tags": []
   },
   "outputs": [
    {
     "name": "stdout",
     "output_type": "stream",
     "text": [
      "The shape of X1_train is: (593, 119)\n",
      "The shape of X1_test is: (149, 119)\n",
      "The shape of y1_train is: (593, 1)\n",
      "The shape of y1_test is: (149, 1)\n"
     ]
    }
   ],
   "source": [
    "X1_train, X1_test, y1_train, y1_test = train_test_split(X1, y1, test_size = 0.2, random_state = 1)\n",
    "print(\"The shape of X1_train is:\",X1_train.shape)\n",
    "print(\"The shape of X1_test is:\",X1_test.shape)\n",
    "print(\"The shape of y1_train is:\",y1_train.shape)\n",
    "print(\"The shape of y1_test is:\",y1_test.shape)"
   ]
  },
  {
   "cell_type": "code",
   "execution_count": 32,
   "id": "436502b4",
   "metadata": {
    "colab": {
     "base_uri": "https://localhost:8080/"
    },
    "execution": {
     "iopub.execute_input": "2022-02-25T05:57:41.189983Z",
     "iopub.status.busy": "2022-02-25T05:57:41.189314Z",
     "iopub.status.idle": "2022-02-25T05:57:41.217492Z",
     "shell.execute_reply": "2022-02-25T05:57:41.218049Z",
     "shell.execute_reply.started": "2022-02-23T19:51:04.277086Z"
    },
    "id": "436502b4",
    "outputId": "5df392ae-0d33-4f78-c353-2376a4ac55f4",
    "papermill": {
     "duration": 0.331541,
     "end_time": "2022-02-25T05:57:41.218221",
     "exception": false,
     "start_time": "2022-02-25T05:57:40.886680",
     "status": "completed"
    },
    "tags": []
   },
   "outputs": [
    {
     "name": "stderr",
     "output_type": "stream",
     "text": [
      "C:\\Users\\OMKAR\\AppData\\Local\\Programs\\Python\\Python310\\lib\\site-packages\\sklearn\\linear_model\\_stochastic_gradient.py:165: FutureWarning: The loss 'squared_loss' was deprecated in v1.0 and will be removed in version 1.2. Use `loss='squared_error'` which is equivalent.\n",
      "  warnings.warn(\n",
      "C:\\Users\\OMKAR\\AppData\\Local\\Programs\\Python\\Python310\\lib\\site-packages\\sklearn\\utils\\validation.py:993: DataConversionWarning: A column-vector y was passed when a 1d array was expected. Please change the shape of y to (n_samples, ), for example using ravel().\n",
      "  y = column_or_1d(y, warn=True)\n"
     ]
    },
    {
     "data": {
      "text/plain": [
       "SGDRegressor(alpha=0.1, loss='squared_loss', max_iter=3000)"
      ]
     },
     "execution_count": 32,
     "metadata": {},
     "output_type": "execute_result"
    }
   ],
   "source": [
    "SGD_model = SGDRegressor(loss=\"squared_loss\",alpha = 0.1, max_iter = 3000) #Instantiation\n",
    "SGD_model.fit(X1_train, y1_train) #Training"
   ]
  },
  {
   "cell_type": "code",
   "execution_count": 33,
   "id": "748d9942",
   "metadata": {
    "execution": {
     "iopub.execute_input": "2022-02-25T05:57:41.834354Z",
     "iopub.status.busy": "2022-02-25T05:57:41.830934Z",
     "iopub.status.idle": "2022-02-25T05:57:41.835561Z",
     "shell.execute_reply": "2022-02-25T05:57:41.836414Z",
     "shell.execute_reply.started": "2022-02-23T19:51:04.30711Z"
    },
    "id": "748d9942",
    "papermill": {
     "duration": 0.304132,
     "end_time": "2022-02-25T05:57:41.836691",
     "exception": false,
     "start_time": "2022-02-25T05:57:41.532559",
     "status": "completed"
    },
    "tags": []
   },
   "outputs": [],
   "source": [
    "# predict the values\n",
    "y1_pred_SGD  = SGD_model.predict(X1_test)"
   ]
  },
  {
   "cell_type": "code",
   "execution_count": 34,
   "id": "ceeefbb5",
   "metadata": {
    "colab": {
     "base_uri": "https://localhost:8080/"
    },
    "execution": {
     "iopub.execute_input": "2022-02-25T05:57:42.475918Z",
     "iopub.status.busy": "2022-02-25T05:57:42.475252Z",
     "iopub.status.idle": "2022-02-25T05:57:42.477770Z",
     "shell.execute_reply": "2022-02-25T05:57:42.478330Z",
     "shell.execute_reply.started": "2022-02-23T19:51:04.322981Z"
    },
    "id": "ceeefbb5",
    "outputId": "de116175-cd0a-4239-9e95-d5dbd22727b2",
    "papermill": {
     "duration": 0.298897,
     "end_time": "2022-02-25T05:57:42.478493",
     "exception": false,
     "start_time": "2022-02-25T05:57:42.179596",
     "status": "completed"
    },
    "tags": []
   },
   "outputs": [
    {
     "data": {
      "text/plain": [
       "array([146.17822352,  74.87268239, 121.21060277,  87.79222273,\n",
       "        82.33411807,  82.22376336,  87.72107629,  67.82260446,\n",
       "        58.53475719,  66.8734221 ,  93.36042671,  88.61224572,\n",
       "        63.63293606,  85.35268371, 106.46610445,  58.68089226,\n",
       "        92.04795286,  57.32119371,  83.80227212, 101.04794339,\n",
       "       111.52212746,  66.25032892, 135.63841731, 109.32845591,\n",
       "        70.22158201, 105.22934263,  92.30981266, 115.46232968,\n",
       "        80.38804527, 144.58428678, 106.19771939,  52.31414675,\n",
       "       149.28876133,  91.58870248, 115.40691113,  94.46211967,\n",
       "        49.63090925,  43.14879298, 108.07893855, 131.75073921,\n",
       "       101.27941156,  50.2445894 , 121.3291105 ,  95.93100851,\n",
       "        88.77467958,  96.42721772,  57.32119371, 149.81342062,\n",
       "        94.2973483 ,  65.56496733,  54.74167451, 131.75073921,\n",
       "        93.3581593 , 120.16358577,  95.19146698, 121.21060277,\n",
       "        58.06929141, 141.15751924, 116.45933563,  83.98019629,\n",
       "       136.46343074, 104.23570691,  39.73522942,  48.27961545,\n",
       "       153.37330572,  82.22376336,  43.85215956,  81.95668711,\n",
       "        67.82260446, 130.05561834, 140.25458465,  95.46674074,\n",
       "       121.57456764,  49.90327358,  99.62459334,  87.9808317 ,\n",
       "        98.74482359,  84.41557515,  90.92673163, 104.93332748,\n",
       "        91.18407389,  57.32119371,  85.5755291 , 105.48191502,\n",
       "        45.57041979, 121.87748523,  82.20556054,  85.54239759,\n",
       "       115.40691113, 127.49187529,  94.30632594,  73.45046235,\n",
       "       131.17016026,  56.47225115, 145.43103645, 151.38903689,\n",
       "        79.17856481,  76.22843892,  56.33709955,  83.80227212,\n",
       "        96.79522233,  82.19997746, 134.07461526, 114.92793625,\n",
       "        69.83136052,  81.68147921, 107.7075544 , 127.60816263,\n",
       "        68.35770991, 114.23115509,  48.4726035 , 127.60816263,\n",
       "        70.22158201, 109.36230659, 133.5138303 ,  91.53147601,\n",
       "       100.35653895, 106.25489854, 109.41419247,  84.74980958,\n",
       "       150.95683267,  69.75352339,  86.05300032,  62.58040243,\n",
       "        85.96707831, 156.76305941, 156.76305941, 136.62442829,\n",
       "       133.28964813, 122.39843731, 108.07893855, 114.04379042,\n",
       "       110.17533327, 132.14449313,  61.16960999,  71.25698885,\n",
       "        82.34263303, 136.46343074,  99.2807237 ,  80.86536475,\n",
       "       107.19918742, 132.19955587, 107.5904005 , 103.78557655,\n",
       "        73.76808819,  95.19146698, 133.6052835 ,  89.9515955 ,\n",
       "       122.26352453])"
      ]
     },
     "execution_count": 34,
     "metadata": {},
     "output_type": "execute_result"
    }
   ],
   "source": [
    "y1_pred_SGD"
   ]
  },
  {
   "cell_type": "code",
   "execution_count": 35,
   "id": "2f9f6061",
   "metadata": {
    "execution": {
     "iopub.execute_input": "2022-02-25T05:57:43.849542Z",
     "iopub.status.busy": "2022-02-25T05:57:43.848454Z",
     "iopub.status.idle": "2022-02-25T05:57:43.852369Z",
     "shell.execute_reply": "2022-02-25T05:57:43.853265Z",
     "shell.execute_reply.started": "2022-02-23T19:51:04.555193Z"
    },
    "id": "2f9f6061",
    "papermill": {
     "duration": 0.308084,
     "end_time": "2022-02-25T05:57:43.853541",
     "exception": false,
     "start_time": "2022-02-25T05:57:43.545457",
     "status": "completed"
    },
    "tags": []
   },
   "outputs": [],
   "source": [
    "r_squared_SGD = SGD_model.score(X1_train,y1_train)\n",
    "n = 593 \n",
    "p = 119\n",
    "Adj_r_squared_SGD = 1 - (1-r_squared_SGD)*(n-1)/(n-p-1)\n",
    "rmse_SGD = sqrt(mean_squared_error(y1_test, y1_pred_SGD))"
   ]
  },
  {
   "cell_type": "code",
   "execution_count": 36,
   "id": "5dd88fb9",
   "metadata": {
    "colab": {
     "base_uri": "https://localhost:8080/"
    },
    "execution": {
     "iopub.execute_input": "2022-02-25T05:57:44.550010Z",
     "iopub.status.busy": "2022-02-25T05:57:44.548916Z",
     "iopub.status.idle": "2022-02-25T05:57:44.560863Z",
     "shell.execute_reply": "2022-02-25T05:57:44.560229Z",
     "shell.execute_reply.started": "2022-02-23T19:51:04.568825Z"
    },
    "id": "5dd88fb9",
    "outputId": "3b404f43-b6cc-4b4d-be10-35f93af2eebc",
    "papermill": {
     "duration": 0.362838,
     "end_time": "2022-02-25T05:57:44.561002",
     "exception": false,
     "start_time": "2022-02-25T05:57:44.198164",
     "status": "completed"
    },
    "tags": []
   },
   "outputs": [
    {
     "name": "stderr",
     "output_type": "stream",
     "text": [
      "C:\\Users\\OMKAR\\AppData\\Local\\Temp/ipykernel_16636/1081402639.py:6: FutureWarning: The frame.append method is deprecated and will be removed from pandas in a future version. Use pandas.concat instead.\n",
      "  result_tabulation = result_tabulation.append(linreg_full_metrics, ignore_index = True)\n"
     ]
    },
    {
     "data": {
      "text/html": [
       "<div>\n",
       "<style scoped>\n",
       "    .dataframe tbody tr th:only-of-type {\n",
       "        vertical-align: middle;\n",
       "    }\n",
       "\n",
       "    .dataframe tbody tr th {\n",
       "        vertical-align: top;\n",
       "    }\n",
       "\n",
       "    .dataframe thead th {\n",
       "        text-align: right;\n",
       "    }\n",
       "</style>\n",
       "<table border=\"1\" class=\"dataframe\">\n",
       "  <thead>\n",
       "    <tr style=\"text-align: right;\">\n",
       "      <th></th>\n",
       "      <th>Model</th>\n",
       "      <th>RMSE</th>\n",
       "      <th>R-Squared</th>\n",
       "      <th>Adj. R-Squared</th>\n",
       "    </tr>\n",
       "  </thead>\n",
       "  <tbody>\n",
       "    <tr>\n",
       "      <th>0</th>\n",
       "      <td>Linreg full model</td>\n",
       "      <td>28.33744</td>\n",
       "      <td>0.665127</td>\n",
       "      <td>0.582642</td>\n",
       "    </tr>\n",
       "    <tr>\n",
       "      <th>1</th>\n",
       "      <td>Linear regression with SGD</td>\n",
       "      <td>26.90895</td>\n",
       "      <td>0.649354</td>\n",
       "      <td>0.561136</td>\n",
       "    </tr>\n",
       "  </tbody>\n",
       "</table>\n",
       "</div>"
      ],
      "text/plain": [
       "                         Model      RMSE R-Squared Adj. R-Squared\n",
       "0           Linreg full model   28.33744  0.665127       0.582642\n",
       "1  Linear regression with SGD   26.90895  0.649354       0.561136"
      ]
     },
     "execution_count": 36,
     "metadata": {},
     "output_type": "execute_result"
    }
   ],
   "source": [
    "linreg_full_metrics = pd.Series({'Model': \"Linear regression with SGD \",\n",
    "                     'RMSE':rmse_SGD,\n",
    "                     'R-Squared': r_squared_SGD,\n",
    "                     'Adj. R-Squared': Adj_r_squared_SGD     \n",
    "                   })\n",
    "result_tabulation = result_tabulation.append(linreg_full_metrics, ignore_index = True)\n",
    "result_tabulation"
   ]
  },
  {
   "cell_type": "markdown",
   "id": "f4cf8089",
   "metadata": {
    "id": "f4cf8089",
    "papermill": {
     "duration": 0.290714,
     "end_time": "2022-02-25T05:57:45.143666",
     "exception": false,
     "start_time": "2022-02-25T05:57:44.852952",
     "status": "completed"
    },
    "tags": []
   },
   "source": [
    "# 3. Decision Tree"
   ]
  },
  {
   "cell_type": "code",
   "execution_count": 37,
   "id": "9ed1972e",
   "metadata": {
    "execution": {
     "iopub.execute_input": "2022-02-25T05:57:45.735459Z",
     "iopub.status.busy": "2022-02-25T05:57:45.734551Z",
     "iopub.status.idle": "2022-02-25T05:57:45.820123Z",
     "shell.execute_reply": "2022-02-25T05:57:45.819497Z",
     "shell.execute_reply.started": "2022-02-23T19:51:04.596162Z"
    },
    "id": "9ed1972e",
    "papermill": {
     "duration": 0.382299,
     "end_time": "2022-02-25T05:57:45.820270",
     "exception": false,
     "start_time": "2022-02-25T05:57:45.437971",
     "status": "completed"
    },
    "tags": []
   },
   "outputs": [],
   "source": [
    "from sklearn import tree\n",
    "from sklearn.tree import export_graphviz\n",
    "from sklearn import metrics\n",
    "from sklearn.tree import DecisionTreeRegressor\n",
    "from sklearn.model_selection import GridSearchCV"
   ]
  },
  {
   "cell_type": "code",
   "execution_count": 38,
   "id": "9f4e3bc6",
   "metadata": {
    "colab": {
     "base_uri": "https://localhost:8080/"
    },
    "execution": {
     "iopub.execute_input": "2022-02-25T05:57:46.414152Z",
     "iopub.status.busy": "2022-02-25T05:57:46.413115Z",
     "iopub.status.idle": "2022-02-25T05:57:46.425821Z",
     "shell.execute_reply": "2022-02-25T05:57:46.426326Z",
     "shell.execute_reply.started": "2022-02-23T19:51:04.695488Z"
    },
    "id": "9f4e3bc6",
    "outputId": "7e886fb8-778d-40c5-83c7-8d678da51f0a",
    "papermill": {
     "duration": 0.314057,
     "end_time": "2022-02-25T05:57:46.426518",
     "exception": false,
     "start_time": "2022-02-25T05:57:46.112461",
     "status": "completed"
    },
    "tags": []
   },
   "outputs": [],
   "source": [
    "decision_tree = DecisionTreeRegressor(criterion = 'squared_error', random_state = 10) #Max depth D.Tree gets formed\n",
    "decision_tree_model = decision_tree.fit(X_train, y_train) #fit() method is defined inside the class 'DecisionTreeClassifier'"
   ]
  },
  {
   "cell_type": "code",
   "execution_count": 39,
   "id": "2a2dd22d",
   "metadata": {
    "execution": {
     "iopub.execute_input": "2022-02-25T05:57:47.013314Z",
     "iopub.status.busy": "2022-02-25T05:57:47.012654Z",
     "iopub.status.idle": "2022-02-25T05:57:47.019285Z",
     "shell.execute_reply": "2022-02-25T05:57:47.019839Z",
     "shell.execute_reply.started": "2022-02-23T19:51:04.714087Z"
    },
    "id": "2a2dd22d",
    "papermill": {
     "duration": 0.300931,
     "end_time": "2022-02-25T05:57:47.020030",
     "exception": false,
     "start_time": "2022-02-25T05:57:46.719099",
     "status": "completed"
    },
    "tags": []
   },
   "outputs": [],
   "source": [
    "y_pred_DT=decision_tree_model.predict(X_test)"
   ]
  },
  {
   "cell_type": "code",
   "execution_count": 40,
   "id": "53dde85b",
   "metadata": {
    "colab": {
     "base_uri": "https://localhost:8080/"
    },
    "execution": {
     "iopub.execute_input": "2022-02-25T05:57:47.610666Z",
     "iopub.status.busy": "2022-02-25T05:57:47.610006Z",
     "iopub.status.idle": "2022-02-25T05:57:47.617344Z",
     "shell.execute_reply": "2022-02-25T05:57:47.616571Z",
     "shell.execute_reply.started": "2022-02-23T19:51:04.724067Z"
    },
    "id": "53dde85b",
    "outputId": "36e31335-0642-4ffe-9ecd-52537c907c0f",
    "papermill": {
     "duration": 0.303037,
     "end_time": "2022-02-25T05:57:47.617532",
     "exception": false,
     "start_time": "2022-02-25T05:57:47.314495",
     "status": "completed"
    },
    "tags": []
   },
   "outputs": [
    {
     "data": {
      "text/plain": [
       "array([121.        ,  62.5       , 120.        ,  97.5       ,\n",
       "        70.        , 109.        ,  65.5       ,  85.5       ,\n",
       "        72.5       ,  81.        ,  71.75      ,  75.5       ,\n",
       "        41.5       , 123.5       , 164.5       ,  85.5       ,\n",
       "        93.33333333,  56.5       ,  84.5       ,  93.5       ,\n",
       "        89.        ,  66.        , 122.        ,  84.        ,\n",
       "        73.5       ,  85.5       ,  94.5       , 120.        ,\n",
       "        80.        , 194.        , 107.        ,  54.        ,\n",
       "       150.5       ,  82.5       , 139.5       , 120.        ,\n",
       "        43.        ,  53.5       , 107.5       , 221.5       ,\n",
       "        75.5       ,  49.        ,  68.5       , 109.        ,\n",
       "        49.        ,  84.        ,  56.5       , 111.        ,\n",
       "        64.5       ,  50.        ,  44.5       , 221.5       ,\n",
       "        90.66666667, 113.5       , 111.5       , 120.        ,\n",
       "        50.        , 164.        , 113.5       , 177.        ,\n",
       "       134.        ,  95.        ,  61.        ,  48.5       ,\n",
       "       133.        , 109.        ,  53.5       ,  91.        ,\n",
       "        85.5       , 140.        , 113.        ,  91.        ,\n",
       "        94.5       ,  56.5       ,  82.        ,  91.5       ,\n",
       "        82.5       , 115.        ,  49.        ,  84.5       ,\n",
       "        99.        ,  56.5       ,  76.5       , 127.5       ,\n",
       "       105.5       , 114.5       ,  71.5       , 110.        ,\n",
       "       139.5       , 146.5       , 120.        ,  68.5       ,\n",
       "       143.5       ,  55.        , 140.        , 116.5       ,\n",
       "        47.        ,  85.5       ,  51.5       ,  84.5       ,\n",
       "       103.5       , 129.5       , 140.5       , 115.        ,\n",
       "        99.5       ,  90.        , 120.        , 254.        ,\n",
       "        87.5       , 221.5       ,  76.        , 254.        ,\n",
       "        73.5       ,  86.        , 155.        , 107.        ,\n",
       "       103.5       , 138.5       ,  56.5       ,  62.5       ,\n",
       "       137.        ,  59.        ,  79.5       ,  74.        ,\n",
       "        90.        , 151.5       , 151.5       ,  87.5       ,\n",
       "       124.5       , 142.5       , 107.5       , 181.        ,\n",
       "        85.        , 126.25      ,  45.5       ,  83.        ,\n",
       "       149.5       , 134.        ,  92.        ,  69.5       ,\n",
       "        47.5       ,  92.        ,  77.5       ,  98.        ,\n",
       "        49.        , 111.5       , 150.5       ,  76.        ,\n",
       "       161.5       ])"
      ]
     },
     "execution_count": 40,
     "metadata": {},
     "output_type": "execute_result"
    }
   ],
   "source": [
    "y_pred_DT"
   ]
  },
  {
   "cell_type": "code",
   "execution_count": 41,
   "id": "f1976446",
   "metadata": {
    "colab": {
     "base_uri": "https://localhost:8080/"
    },
    "execution": {
     "iopub.execute_input": "2022-02-25T05:57:48.213041Z",
     "iopub.status.busy": "2022-02-25T05:57:48.212360Z",
     "iopub.status.idle": "2022-02-25T05:57:48.223028Z",
     "shell.execute_reply": "2022-02-25T05:57:48.223545Z",
     "shell.execute_reply.started": "2022-02-23T19:51:04.736567Z"
    },
    "id": "f1976446",
    "outputId": "102e9823-2925-4652-81c5-4b738c990ef7",
    "papermill": {
     "duration": 0.309669,
     "end_time": "2022-02-25T05:57:48.223711",
     "exception": false,
     "start_time": "2022-02-25T05:57:47.914042",
     "status": "completed"
    },
    "scrolled": true,
    "tags": []
   },
   "outputs": [
    {
     "data": {
      "text/html": [
       "<div>\n",
       "<style scoped>\n",
       "    .dataframe tbody tr th:only-of-type {\n",
       "        vertical-align: middle;\n",
       "    }\n",
       "\n",
       "    .dataframe tbody tr th {\n",
       "        vertical-align: top;\n",
       "    }\n",
       "\n",
       "    .dataframe thead th {\n",
       "        text-align: right;\n",
       "    }\n",
       "</style>\n",
       "<table border=\"1\" class=\"dataframe\">\n",
       "  <thead>\n",
       "    <tr style=\"text-align: right;\">\n",
       "      <th></th>\n",
       "      <th>Avg Salary(K)</th>\n",
       "    </tr>\n",
       "  </thead>\n",
       "  <tbody>\n",
       "    <tr>\n",
       "      <th>273</th>\n",
       "      <td>90.0</td>\n",
       "    </tr>\n",
       "    <tr>\n",
       "      <th>414</th>\n",
       "      <td>62.5</td>\n",
       "    </tr>\n",
       "    <tr>\n",
       "      <th>529</th>\n",
       "      <td>125.0</td>\n",
       "    </tr>\n",
       "    <tr>\n",
       "      <th>502</th>\n",
       "      <td>97.5</td>\n",
       "    </tr>\n",
       "    <tr>\n",
       "      <th>729</th>\n",
       "      <td>70.0</td>\n",
       "    </tr>\n",
       "    <tr>\n",
       "      <th>...</th>\n",
       "      <td>...</td>\n",
       "    </tr>\n",
       "    <tr>\n",
       "      <th>247</th>\n",
       "      <td>50.0</td>\n",
       "    </tr>\n",
       "    <tr>\n",
       "      <th>341</th>\n",
       "      <td>111.5</td>\n",
       "    </tr>\n",
       "    <tr>\n",
       "      <th>298</th>\n",
       "      <td>162.5</td>\n",
       "    </tr>\n",
       "    <tr>\n",
       "      <th>132</th>\n",
       "      <td>81.5</td>\n",
       "    </tr>\n",
       "    <tr>\n",
       "      <th>656</th>\n",
       "      <td>114.0</td>\n",
       "    </tr>\n",
       "  </tbody>\n",
       "</table>\n",
       "<p>149 rows × 1 columns</p>\n",
       "</div>"
      ],
      "text/plain": [
       "     Avg Salary(K)\n",
       "273           90.0\n",
       "414           62.5\n",
       "529          125.0\n",
       "502           97.5\n",
       "729           70.0\n",
       "..             ...\n",
       "247           50.0\n",
       "341          111.5\n",
       "298          162.5\n",
       "132           81.5\n",
       "656          114.0\n",
       "\n",
       "[149 rows x 1 columns]"
      ]
     },
     "execution_count": 41,
     "metadata": {},
     "output_type": "execute_result"
    }
   ],
   "source": [
    "y_test"
   ]
  },
  {
   "cell_type": "code",
   "execution_count": 42,
   "id": "1d1b86ad",
   "metadata": {
    "colab": {
     "base_uri": "https://localhost:8080/"
    },
    "execution": {
     "iopub.execute_input": "2022-02-25T05:57:48.817672Z",
     "iopub.status.busy": "2022-02-25T05:57:48.816909Z",
     "iopub.status.idle": "2022-02-25T05:57:48.827902Z",
     "shell.execute_reply": "2022-02-25T05:57:48.827235Z",
     "shell.execute_reply.started": "2022-02-23T19:51:04.752406Z"
    },
    "id": "1d1b86ad",
    "outputId": "11aba16a-1dca-4170-b2f3-56b451540ea4",
    "papermill": {
     "duration": 0.305121,
     "end_time": "2022-02-25T05:57:48.828045",
     "exception": false,
     "start_time": "2022-02-25T05:57:48.522924",
     "status": "completed"
    },
    "tags": []
   },
   "outputs": [
    {
     "data": {
      "text/plain": [
       "0.5608620342087651"
      ]
     },
     "execution_count": 42,
     "metadata": {},
     "output_type": "execute_result"
    }
   ],
   "source": [
    "r_squared_DT=decision_tree_model.score(X_test,y_test)\n",
    "n = 593 \n",
    "p = 119\n",
    "Adj_r_squared_DT = 1 - (1-r_squared_DT)*(n-1)/(n-p-1)\n",
    "Adj_r_squared_DT"
   ]
  },
  {
   "cell_type": "code",
   "execution_count": 43,
   "id": "3e908dd6",
   "metadata": {
    "execution": {
     "iopub.execute_input": "2022-02-25T05:57:49.418928Z",
     "iopub.status.busy": "2022-02-25T05:57:49.418255Z",
     "iopub.status.idle": "2022-02-25T05:57:49.423363Z",
     "shell.execute_reply": "2022-02-25T05:57:49.423866Z",
     "shell.execute_reply.started": "2022-02-23T19:51:04.76548Z"
    },
    "id": "3e908dd6",
    "papermill": {
     "duration": 0.301352,
     "end_time": "2022-02-25T05:57:49.424044",
     "exception": false,
     "start_time": "2022-02-25T05:57:49.122692",
     "status": "completed"
    },
    "tags": []
   },
   "outputs": [],
   "source": [
    "# Compute RMSE\n",
    "rmse_DT = sqrt(mean_squared_error(y_test, y_pred_DT))"
   ]
  },
  {
   "cell_type": "code",
   "execution_count": 44,
   "id": "21ae2184",
   "metadata": {
    "colab": {
     "base_uri": "https://localhost:8080/"
    },
    "execution": {
     "iopub.execute_input": "2022-02-25T05:57:50.040570Z",
     "iopub.status.busy": "2022-02-25T05:57:50.039792Z",
     "iopub.status.idle": "2022-02-25T05:57:50.043144Z",
     "shell.execute_reply": "2022-02-25T05:57:50.043627Z",
     "shell.execute_reply.started": "2022-02-23T19:51:04.7729Z"
    },
    "id": "21ae2184",
    "outputId": "b84ab1ba-eb19-4f62-bca2-0c48af99d32b",
    "papermill": {
     "duration": 0.313287,
     "end_time": "2022-02-25T05:57:50.043834",
     "exception": false,
     "start_time": "2022-02-25T05:57:49.730547",
     "status": "completed"
    },
    "tags": []
   },
   "outputs": [
    {
     "name": "stderr",
     "output_type": "stream",
     "text": [
      "C:\\Users\\OMKAR\\AppData\\Local\\Temp/ipykernel_16636/987164885.py:6: FutureWarning: The frame.append method is deprecated and will be removed from pandas in a future version. Use pandas.concat instead.\n",
      "  result_tabulation = result_tabulation.append(linreg_full_metrics, ignore_index = True)\n"
     ]
    },
    {
     "data": {
      "text/html": [
       "<div>\n",
       "<style scoped>\n",
       "    .dataframe tbody tr th:only-of-type {\n",
       "        vertical-align: middle;\n",
       "    }\n",
       "\n",
       "    .dataframe tbody tr th {\n",
       "        vertical-align: top;\n",
       "    }\n",
       "\n",
       "    .dataframe thead th {\n",
       "        text-align: right;\n",
       "    }\n",
       "</style>\n",
       "<table border=\"1\" class=\"dataframe\">\n",
       "  <thead>\n",
       "    <tr style=\"text-align: right;\">\n",
       "      <th></th>\n",
       "      <th>Model</th>\n",
       "      <th>RMSE</th>\n",
       "      <th>R-Squared</th>\n",
       "      <th>Adj. R-Squared</th>\n",
       "    </tr>\n",
       "  </thead>\n",
       "  <tbody>\n",
       "    <tr>\n",
       "      <th>0</th>\n",
       "      <td>Linreg full model</td>\n",
       "      <td>28.33744</td>\n",
       "      <td>0.665127</td>\n",
       "      <td>0.582642</td>\n",
       "    </tr>\n",
       "    <tr>\n",
       "      <th>1</th>\n",
       "      <td>Linear regression with SGD</td>\n",
       "      <td>26.90895</td>\n",
       "      <td>0.649354</td>\n",
       "      <td>0.561136</td>\n",
       "    </tr>\n",
       "    <tr>\n",
       "      <th>2</th>\n",
       "      <td>Decision Tree Model</td>\n",
       "      <td>22.072437</td>\n",
       "      <td>0.649135</td>\n",
       "      <td>0.560862</td>\n",
       "    </tr>\n",
       "  </tbody>\n",
       "</table>\n",
       "</div>"
      ],
      "text/plain": [
       "                         Model       RMSE R-Squared Adj. R-Squared\n",
       "0           Linreg full model    28.33744  0.665127       0.582642\n",
       "1  Linear regression with SGD    26.90895  0.649354       0.561136\n",
       "2         Decision Tree Model   22.072437  0.649135       0.560862"
      ]
     },
     "execution_count": 44,
     "metadata": {},
     "output_type": "execute_result"
    }
   ],
   "source": [
    "linreg_full_metrics = pd.Series({'Model': \"Decision Tree Model \",\n",
    "                     'RMSE':rmse_DT,\n",
    "                     'R-Squared': r_squared_DT,\n",
    "                     'Adj. R-Squared': Adj_r_squared_DT     \n",
    "                   })\n",
    "result_tabulation = result_tabulation.append(linreg_full_metrics, ignore_index = True)\n",
    "result_tabulation"
   ]
  },
  {
   "cell_type": "markdown",
   "id": "e2d6eb76",
   "metadata": {
    "id": "e2d6eb76",
    "papermill": {
     "duration": 0.314106,
     "end_time": "2022-02-25T05:57:50.663963",
     "exception": false,
     "start_time": "2022-02-25T05:57:50.349857",
     "status": "completed"
    },
    "tags": []
   },
   "source": [
    "# 4.Decision Tree with pruning"
   ]
  },
  {
   "cell_type": "code",
   "execution_count": 45,
   "id": "17b7e0f6",
   "metadata": {
    "execution": {
     "iopub.execute_input": "2022-02-25T05:57:51.264739Z",
     "iopub.status.busy": "2022-02-25T05:57:51.263669Z",
     "iopub.status.idle": "2022-02-25T05:57:51.272917Z",
     "shell.execute_reply": "2022-02-25T05:57:51.272347Z",
     "shell.execute_reply.started": "2022-02-23T19:51:04.792173Z"
    },
    "id": "17b7e0f6",
    "papermill": {
     "duration": 0.314222,
     "end_time": "2022-02-25T05:57:51.273069",
     "exception": false,
     "start_time": "2022-02-25T05:57:50.958847",
     "status": "completed"
    },
    "tags": []
   },
   "outputs": [],
   "source": [
    "prune = DecisionTreeRegressor(max_depth = 10, max_leaf_nodes = 32 , random_state = 10)\n",
    "decision_tree_prune = prune.fit(X_train, y_train)"
   ]
  },
  {
   "cell_type": "code",
   "execution_count": 46,
   "id": "6e360eeb",
   "metadata": {
    "execution": {
     "iopub.execute_input": "2022-02-25T05:57:51.868362Z",
     "iopub.status.busy": "2022-02-25T05:57:51.867371Z",
     "iopub.status.idle": "2022-02-25T05:57:51.873992Z",
     "shell.execute_reply": "2022-02-25T05:57:51.874469Z",
     "shell.execute_reply.started": "2022-02-23T19:51:04.807546Z"
    },
    "id": "6e360eeb",
    "papermill": {
     "duration": 0.304805,
     "end_time": "2022-02-25T05:57:51.874644",
     "exception": false,
     "start_time": "2022-02-25T05:57:51.569839",
     "status": "completed"
    },
    "tags": []
   },
   "outputs": [],
   "source": [
    "y_pred_DT_prune=decision_tree_prune.predict(X_test)"
   ]
  },
  {
   "cell_type": "code",
   "execution_count": 47,
   "id": "75ca6332",
   "metadata": {
    "colab": {
     "base_uri": "https://localhost:8080/"
    },
    "execution": {
     "iopub.execute_input": "2022-02-25T05:57:52.470602Z",
     "iopub.status.busy": "2022-02-25T05:57:52.469833Z",
     "iopub.status.idle": "2022-02-25T05:57:52.473073Z",
     "shell.execute_reply": "2022-02-25T05:57:52.473556Z",
     "shell.execute_reply.started": "2022-02-23T19:51:04.81654Z"
    },
    "id": "75ca6332",
    "outputId": "8713cfb6-6269-4dd2-cbcd-cb9797fb3bb1",
    "papermill": {
     "duration": 0.303158,
     "end_time": "2022-02-25T05:57:52.473718",
     "exception": false,
     "start_time": "2022-02-25T05:57:52.170560",
     "status": "completed"
    },
    "tags": []
   },
   "outputs": [
    {
     "data": {
      "text/plain": [
       "array([139.93939394,  59.05172414,  81.86206897, 104.3880597 ,\n",
       "        60.7244898 ,  93.12931034,  98.98837209,  93.12931034,\n",
       "        59.05172414,  60.7244898 ,  89.32      ,  93.12931034,\n",
       "        81.86206897,  59.05172414, 139.93939394,  81.86206897,\n",
       "        98.98837209,  60.7244898 ,  98.98837209,  81.86206897,\n",
       "       104.3880597 ,  59.05172414, 127.70491803,  89.32      ,\n",
       "        81.86206897, 104.3880597 ,  93.12931034,  81.86206897,\n",
       "        98.98837209, 191.125     , 104.3880597 ,  59.05172414,\n",
       "       139.93939394,  90.63461538, 127.70491803,  81.86206897,\n",
       "        59.05172414,  59.05172414,  98.98837209, 139.93939394,\n",
       "       104.3880597 ,  59.05172414, 101.5       ,  98.98837209,\n",
       "        59.05172414,  89.32      ,  60.7244898 ,  60.7244898 ,\n",
       "        93.12931034,  59.05172414,  59.05172414, 139.93939394,\n",
       "        98.98837209,  89.32      ,  90.63461538,  81.86206897,\n",
       "        59.05172414, 127.70491803, 139.93939394, 177.        ,\n",
       "        98.98837209, 104.3880597 , 101.5       ,  59.05172414,\n",
       "       127.70491803,  93.12931034,  59.05172414, 104.3880597 ,\n",
       "        93.12931034, 156.        ,  93.12931034, 104.3880597 ,\n",
       "        89.32      ,  60.7244898 ,  89.32      ,  90.63461538,\n",
       "        90.63461538, 104.3880597 ,  59.05172414,  93.12931034,\n",
       "        93.12931034,  60.7244898 ,  89.32      , 104.3880597 ,\n",
       "        93.12931034,  89.32      ,  93.12931034, 104.3880597 ,\n",
       "       127.70491803, 127.70491803,  89.32      ,  93.12931034,\n",
       "       104.3880597 ,  60.7244898 , 127.70491803, 136.84782609,\n",
       "        75.30769231, 104.3880597 ,  60.7244898 ,  98.98837209,\n",
       "        75.30769231,  96.83333333, 127.70491803,  89.32      ,\n",
       "        96.83333333,  93.12931034,  81.86206897, 214.33333333,\n",
       "        90.63461538, 139.93939394,  81.86206897, 214.33333333,\n",
       "        81.86206897, 104.3880597 , 104.3880597 , 104.3880597 ,\n",
       "        75.30769231, 127.70491803, 104.3880597 ,  89.32      ,\n",
       "       127.70491803,  59.05172414, 104.3880597 ,  81.86206897,\n",
       "        93.12931034, 136.84782609, 136.84782609, 136.84782609,\n",
       "       127.70491803, 139.93939394,  98.98837209, 181.        ,\n",
       "        93.12931034, 130.56666667,  59.05172414,  75.30769231,\n",
       "        93.12931034,  98.98837209,  93.12931034,  89.32      ,\n",
       "        59.05172414, 136.84782609,  75.30769231, 127.70491803,\n",
       "        59.05172414,  90.63461538, 136.84782609,  81.86206897,\n",
       "       161.5       ])"
      ]
     },
     "execution_count": 47,
     "metadata": {},
     "output_type": "execute_result"
    }
   ],
   "source": [
    "y_pred_DT_prune"
   ]
  },
  {
   "cell_type": "code",
   "execution_count": 48,
   "id": "541eaaf5",
   "metadata": {
    "execution": {
     "iopub.execute_input": "2022-02-25T05:57:53.079064Z",
     "iopub.status.busy": "2022-02-25T05:57:53.078194Z",
     "iopub.status.idle": "2022-02-25T05:57:53.081142Z",
     "shell.execute_reply": "2022-02-25T05:57:53.080549Z",
     "shell.execute_reply.started": "2022-02-23T19:51:04.832888Z"
    },
    "id": "541eaaf5",
    "papermill": {
     "duration": 0.312639,
     "end_time": "2022-02-25T05:57:53.081286",
     "exception": false,
     "start_time": "2022-02-25T05:57:52.768647",
     "status": "completed"
    },
    "tags": []
   },
   "outputs": [],
   "source": [
    "r_squared_DT_prune=decision_tree_prune.score(X_test,y_test)\n",
    "n = 593 \n",
    "p = 119\n",
    "Adj_r_squared_DT_prune = 1 - (1-r_squared_DT_prune)*(n-1)/(n-p-1)\n",
    "Adj_r_squared_DT_prune\n",
    "rmse_DT_prune = sqrt(mean_squared_error(y_test, y_pred_DT_prune))"
   ]
  },
  {
   "cell_type": "code",
   "execution_count": 49,
   "id": "5307f9a7",
   "metadata": {
    "colab": {
     "base_uri": "https://localhost:8080/"
    },
    "execution": {
     "iopub.execute_input": "2022-02-25T05:57:53.674075Z",
     "iopub.status.busy": "2022-02-25T05:57:53.673307Z",
     "iopub.status.idle": "2022-02-25T05:57:53.684728Z",
     "shell.execute_reply": "2022-02-25T05:57:53.684229Z",
     "shell.execute_reply.started": "2022-02-23T19:51:04.849122Z"
    },
    "id": "5307f9a7",
    "outputId": "e663d010-da15-46d2-9557-1c03e583b408",
    "papermill": {
     "duration": 0.311339,
     "end_time": "2022-02-25T05:57:53.684897",
     "exception": false,
     "start_time": "2022-02-25T05:57:53.373558",
     "status": "completed"
    },
    "tags": []
   },
   "outputs": [
    {
     "name": "stderr",
     "output_type": "stream",
     "text": [
      "C:\\Users\\OMKAR\\AppData\\Local\\Temp/ipykernel_16636/1696126247.py:6: FutureWarning: The frame.append method is deprecated and will be removed from pandas in a future version. Use pandas.concat instead.\n",
      "  result_tabulation = result_tabulation.append(linreg_full_metrics, ignore_index = True)\n"
     ]
    },
    {
     "data": {
      "text/html": [
       "<div>\n",
       "<style scoped>\n",
       "    .dataframe tbody tr th:only-of-type {\n",
       "        vertical-align: middle;\n",
       "    }\n",
       "\n",
       "    .dataframe tbody tr th {\n",
       "        vertical-align: top;\n",
       "    }\n",
       "\n",
       "    .dataframe thead th {\n",
       "        text-align: right;\n",
       "    }\n",
       "</style>\n",
       "<table border=\"1\" class=\"dataframe\">\n",
       "  <thead>\n",
       "    <tr style=\"text-align: right;\">\n",
       "      <th></th>\n",
       "      <th>Model</th>\n",
       "      <th>RMSE</th>\n",
       "      <th>R-Squared</th>\n",
       "      <th>Adj. R-Squared</th>\n",
       "    </tr>\n",
       "  </thead>\n",
       "  <tbody>\n",
       "    <tr>\n",
       "      <th>0</th>\n",
       "      <td>Linreg full model</td>\n",
       "      <td>28.33744</td>\n",
       "      <td>0.665127</td>\n",
       "      <td>0.582642</td>\n",
       "    </tr>\n",
       "    <tr>\n",
       "      <th>1</th>\n",
       "      <td>Linear regression with SGD</td>\n",
       "      <td>26.90895</td>\n",
       "      <td>0.649354</td>\n",
       "      <td>0.561136</td>\n",
       "    </tr>\n",
       "    <tr>\n",
       "      <th>2</th>\n",
       "      <td>Decision Tree Model</td>\n",
       "      <td>22.072437</td>\n",
       "      <td>0.649135</td>\n",
       "      <td>0.560862</td>\n",
       "    </tr>\n",
       "    <tr>\n",
       "      <th>3</th>\n",
       "      <td>Decision Tree Model after pruning</td>\n",
       "      <td>26.664283</td>\n",
       "      <td>0.487965</td>\n",
       "      <td>0.359144</td>\n",
       "    </tr>\n",
       "  </tbody>\n",
       "</table>\n",
       "</div>"
      ],
      "text/plain": [
       "                                Model       RMSE R-Squared Adj. R-Squared\n",
       "0                  Linreg full model    28.33744  0.665127       0.582642\n",
       "1         Linear regression with SGD    26.90895  0.649354       0.561136\n",
       "2                Decision Tree Model   22.072437  0.649135       0.560862\n",
       "3  Decision Tree Model after pruning   26.664283  0.487965       0.359144"
      ]
     },
     "execution_count": 49,
     "metadata": {},
     "output_type": "execute_result"
    }
   ],
   "source": [
    "linreg_full_metrics = pd.Series({'Model': \"Decision Tree Model after pruning \",\n",
    "                     'RMSE':rmse_DT_prune,\n",
    "                     'R-Squared': r_squared_DT_prune,\n",
    "                     'Adj. R-Squared': Adj_r_squared_DT_prune     \n",
    "                   })\n",
    "result_tabulation = result_tabulation.append(linreg_full_metrics, ignore_index = True)\n",
    "result_tabulation"
   ]
  },
  {
   "cell_type": "markdown",
   "id": "8f4f7267",
   "metadata": {
    "id": "8f4f7267",
    "papermill": {
     "duration": 0.296819,
     "end_time": "2022-02-25T05:57:54.276173",
     "exception": false,
     "start_time": "2022-02-25T05:57:53.979354",
     "status": "completed"
    },
    "tags": []
   },
   "source": [
    "# 5.Decision Tree with grid search CV"
   ]
  },
  {
   "cell_type": "code",
   "execution_count": 50,
   "id": "099ae761",
   "metadata": {
    "execution": {
     "iopub.execute_input": "2022-02-25T05:57:54.871606Z",
     "iopub.status.busy": "2022-02-25T05:57:54.870944Z",
     "iopub.status.idle": "2022-02-25T05:57:54.875792Z",
     "shell.execute_reply": "2022-02-25T05:57:54.876350Z",
     "shell.execute_reply.started": "2022-02-23T19:51:04.866665Z"
    },
    "id": "099ae761",
    "papermill": {
     "duration": 0.300938,
     "end_time": "2022-02-25T05:57:54.876516",
     "exception": false,
     "start_time": "2022-02-25T05:57:54.575578",
     "status": "completed"
    },
    "tags": []
   },
   "outputs": [],
   "source": [
    "# tuned_paramaters = [{'criterion': ['squared_error', 'absolute_error'],\n",
    "#                      'min_samples_split': [10, 20, 30],\n",
    "#                      'max_depth': [3, 5, 7, 9,12,15,20,25],\n",
    "#                      'min_samples_leaf': [15, 20, 25, 30, 35],\n",
    "#                      'max_leaf_nodes': [5, 10, 15, 20, 25]}]"
   ]
  },
  {
   "cell_type": "markdown",
   "id": "b43f6977",
   "metadata": {
    "id": "b43f6977",
    "papermill": {
     "duration": 0.295505,
     "end_time": "2022-02-25T06:02:58.430797",
     "exception": false,
     "start_time": "2022-02-25T06:02:58.135292",
     "status": "completed"
    },
    "tags": []
   },
   "source": [
    "## 5.Rndom forest\n",
    "## 6.Random Forest using Grid search CV\n",
    "## 7. Ensemble Techniques\n",
    "## 8. Ensemble Techniques(Adaboost)"
   ]
  },
  {
   "cell_type": "code",
   "execution_count": null,
   "id": "6ebc313e",
   "metadata": {},
   "outputs": [],
   "source": []
  }
 ],
 "metadata": {
  "colab": {
   "name": "Data scientist salary prediction",
   "provenance": []
  },
  "kernelspec": {
   "display_name": "Python 3 (ipykernel)",
   "language": "python",
   "name": "python3"
  },
  "language_info": {
   "codemirror_mode": {
    "name": "ipython",
    "version": 3
   },
   "file_extension": ".py",
   "mimetype": "text/x-python",
   "name": "python",
   "nbconvert_exporter": "python",
   "pygments_lexer": "ipython3",
   "version": "3.10.0"
  },
  "papermill": {
   "default_parameters": {},
   "duration": 692.23531,
   "end_time": "2022-02-25T06:07:22.781459",
   "environment_variables": {},
   "exception": null,
   "input_path": "__notebook__.ipynb",
   "output_path": "__notebook__.ipynb",
   "parameters": {},
   "start_time": "2022-02-25T05:55:50.546149",
   "version": "2.3.3"
  }
 },
 "nbformat": 4,
 "nbformat_minor": 5
}
